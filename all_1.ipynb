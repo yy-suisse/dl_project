{
 "cells": [
  {
   "cell_type": "code",
   "execution_count": 1,
   "metadata": {},
   "outputs": [],
   "source": [
    "import math\n",
    "import numpy as np\n",
    "import torch\n",
    "from torch import nn\n",
    "from torch.utils.data import Dataset,DataLoader\n",
    "import re"
   ]
  },
  {
   "cell_type": "code",
   "execution_count": 31,
   "metadata": {},
   "outputs": [],
   "source": [
    "split_ratio = 0.9\n",
    "\n",
    "# model params\n",
    "batch_size = 50 # b, to be changed\n",
    "sequence_l = 128 # n\n",
    "d_model = 768 # d_model， embedding dim\n",
    "num_layer = 12 # number of blocks stacked\n",
    "number_head = 8 # multihead attention\n",
    "d_ff = 2048 # feedforward dimension\n",
    "dropout = 0.2\n",
    "\n",
    "device = 'cuda' if torch.cuda.is_available() else 'cpu'\n"
   ]
  },
  {
   "cell_type": "code",
   "execution_count": 3,
   "metadata": {},
   "outputs": [],
   "source": [
    "def build_look_up(text): \n",
    "    chars = sorted(list(set(text)))\n",
    "    stoi = { ch:i for i,ch in enumerate(chars) }\n",
    "    itos = { i:ch for i,ch in enumerate(stoi) }\n",
    "    return stoi,itos\n",
    "\n",
    "def encode(text, stoi):\n",
    "    return [stoi[c] for c in text]\n",
    "\n",
    "def decode(idx, itos):\n",
    "    return [itos[i] for i in idx]"
   ]
  },
  {
   "cell_type": "code",
   "execution_count": 24,
   "metadata": {},
   "outputs": [],
   "source": [
    "def get_batch(split):\n",
    "    # generate a small batch of data of inputs x and targets y\n",
    "    data = train if split == 'train' else val\n",
    "    ix = torch.randint(len(data) - sequence_l, (batch_size,1))\n",
    "    x = torch.stack([data[i:i+sequence_l] for i in ix])\n",
    "    y = torch.stack([data[i+1:i+sequence_l+1] for i in ix])\n",
    "    x, y = x.to(device), y.to(device)\n",
    "    return x, y"
   ]
  },
  {
   "cell_type": "markdown",
   "metadata": {},
   "source": [
    "# get data and preprocess"
   ]
  },
  {
   "cell_type": "code",
   "execution_count": 30,
   "metadata": {},
   "outputs": [
    {
     "data": {
      "text/plain": [
       "torch.Size([50, 128])"
      ]
     },
     "execution_count": 30,
     "metadata": {},
     "output_type": "execute_result"
    }
   ],
   "source": [
    "with open('data.txt', 'r', encoding='utf-8') as f:\n",
    "    text = f.read()\n",
    "\n",
    "# look up and inerse lookup\n",
    "stoi,itos = build_look_up(text)\n",
    "\n",
    "# encode data \n",
    "data = torch.tensor(encode(text,stoi),dtype=torch.long)\n",
    "\n",
    "# split train and test\n",
    "train = data[:int(split_ratio*len(data))]\n",
    "val = data[int(split_ratio*len(data)):]\n",
    "\n",
    "# get batch of data\n",
    "x,y = get_batch('train')"
   ]
  },
  {
   "cell_type": "markdown",
   "metadata": {},
   "source": [
    "# model "
   ]
  },
  {
   "cell_type": "code",
   "execution_count": 32,
   "metadata": {},
   "outputs": [],
   "source": [
    "class PositionalEncoding(nn.Module):\n",
    "\n",
    "    def __init__(self, d_model: int, dropout: float = 0.1, max_len: int = 5000):\n",
    "        super().__init__()\n",
    "        self.dropout = nn.Dropout(p=dropout)\n",
    "\n",
    "        position = torch.arange(max_len).unsqueeze(1)\n",
    "        div_term = torch.exp(torch.arange(0, d_model, 2) * (-math.log(10000.0) / d_model))\n",
    "        pe = torch.zeros(max_len, 1, d_model)\n",
    "        pe[:, 0, 0::2] = torch.sin(position * div_term)\n",
    "        pe[:, 0, 1::2] = torch.cos(position * div_term)\n",
    "        # pe: [seq_lens * 1 * d_model] for each sample\n",
    "\n",
    "        self.register_buffer('pe', pe)\n",
    "\n",
    "    def forward(self, x):\n",
    "        \"\"\"\n",
    "        Arguments:\n",
    "            x: Tensor, shape ``[seq_len, batch_size, embedding_dim]\n",
    "        \"\"\"\n",
    "        x = x + self.pe[:x.size(0)]\n",
    "        return self.dropout(x)"
   ]
  },
  {
   "cell_type": "code",
   "execution_count": null,
   "metadata": {},
   "outputs": [],
   "source": [
    "class MultiHeadAttention(nn.Module):\n",
    "    def __init__(self,number_head,head_size):\n",
    "        super().__init__()\n",
    "        "
   ]
  },
  {
   "cell_type": "code",
   "execution_count": null,
   "metadata": {},
   "outputs": [],
   "source": [
    "class FeedForward(nn.Module):\n",
    "    def __init__(self,number_head,head_size):\n",
    "        super().__init__()"
   ]
  },
  {
   "cell_type": "code",
   "execution_count": null,
   "metadata": {},
   "outputs": [],
   "source": [
    "class Block(nn.Module):\n",
    "    def __init__(self):\n",
    "        super().__init__()\n",
    "        head_size = d_model // number_head\n",
    "        self.self_attention = MultiHeadAttention(number_head,head_size)###\n",
    "        self.norm1  = nn.LayerNorm(d_model)###\n",
    "        self.ffn = FeedForward()###\n",
    "        self.norm2  = nn.LayerNorm(d_model)###\n",
    "\n",
    "    def forward(self,x):\n",
    "        _x = x\n",
    "        x = self.self_attention(x) + _x\n",
    "        \n",
    "        x = self.norm1(x)\n",
    "\n",
    "        _x = x\n",
    "        x = self.ffn(x) + _x\n",
    "\n",
    "        x = self.norm2(x)\n",
    "        return x    \n",
    "\n",
    "\n",
    "\n"
   ]
  },
  {
   "cell_type": "code",
   "execution_count": 38,
   "metadata": {},
   "outputs": [],
   "source": [
    "# Model\n",
    "class Model(nn.Module):\n",
    "    def __init__(self):\n",
    "        super().__init__()\n",
    "        \n",
    "        self.tok_emb = nn.Embedding(len(stoi),d_model)\n",
    "        self.pos_emb = PositionalEncoding(d_model)\n",
    "        self.dropout1 = nn.Dropout(dropout)\n",
    "        \n",
    "        # self.blocks = nn.Sequential(*[Block() for _ in range(num_layer)])\n",
    "    \n",
    "    def forward(self, x,y):\n",
    "\n",
    "        emb_x = self.tok_emb(x)\n",
    "        emb_x = self.pos_emb(emb_x) # x,y = emb = [batch size * sequence_l * d_model]\n",
    "        emb_x = self.dropout1(emb_x)\n",
    "        "
   ]
  },
  {
   "cell_type": "code",
   "execution_count": 40,
   "metadata": {},
   "outputs": [
    {
     "data": {
      "text/plain": [
       "torch.Size([50, 128, 768])"
      ]
     },
     "execution_count": 40,
     "metadata": {},
     "output_type": "execute_result"
    }
   ],
   "source": [
    "model = Model()\n",
    "x_emb = model(x,y)\n"
   ]
  }
 ],
 "metadata": {
  "kernelspec": {
   "display_name": "Python 3",
   "language": "python",
   "name": "python3"
  },
  "language_info": {
   "codemirror_mode": {
    "name": "ipython",
    "version": 3
   },
   "file_extension": ".py",
   "mimetype": "text/x-python",
   "name": "python",
   "nbconvert_exporter": "python",
   "pygments_lexer": "ipython3",
   "version": "3.11.1"
  }
 },
 "nbformat": 4,
 "nbformat_minor": 2
}
