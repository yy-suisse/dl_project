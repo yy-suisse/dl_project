{
 "cells": [
  {
   "cell_type": "code",
   "execution_count": 2,
   "metadata": {},
   "outputs": [],
   "source": [
    "import math\n",
    "import numpy as np\n",
    "import torch\n",
    "from torch import nn\n",
    "from torch.utils.data import Dataset,DataLoader\n",
    "import re\n",
    "from torch.nn import functional as F\n",
    "\n"
   ]
  },
  {
   "cell_type": "code",
   "execution_count": null,
   "metadata": {},
   "outputs": [],
   "source": [
    "split_ratio = 0.9\n",
    "\n",
    "# model params\n",
    "batch_size = 128 # b, to be changed\n",
    "sequence_l = 128 # n\n",
    "d_model = 768 # d_model， embedding dim\n",
    "num_layer = 12 # number of blocks stacked\n",
    "number_head = 8 # multihead attention\n",
    "d_ff = 2048 # feedforward dimension\n",
    "dropout = 0.2\n",
    "learning_rate = 1e-4\n",
    "max_epoch = 3\n",
    "\n",
    "device = 'cuda' if torch.cuda.is_available() else 'cpu'\n"
   ]
  },
  {
   "cell_type": "code",
   "execution_count": 4,
   "metadata": {},
   "outputs": [],
   "source": [
    "def build_look_up(text): \n",
    "    chars = sorted(list(set(text)))\n",
    "    stoi = { ch:i for i,ch in enumerate(chars) }\n",
    "    itos = { i:ch for i,ch in enumerate(stoi) }\n",
    "    return stoi,itos\n",
    "\n",
    "def encode(text, stoi):\n",
    "    return [stoi[c] for c in text]\n",
    "\n",
    "def decode(idx, itos):\n",
    "    return [itos[i] for i in idx]"
   ]
  },
  {
   "cell_type": "code",
   "execution_count": 5,
   "metadata": {},
   "outputs": [],
   "source": [
    "def get_batch(split):\n",
    "    # generate a small batch of data of inputs x and targets y\n",
    "    data = train if split == 'train' else val\n",
    "    ix = torch.randint(len(data) - sequence_l, (batch_size,1))\n",
    "    x = torch.stack([data[i:i+sequence_l] for i in ix])\n",
    "    y = torch.stack([data[i+1:i+sequence_l+1] for i in ix])\n",
    "    x, y = x.to(device), y.to(device)\n",
    "    return x, y"
   ]
  },
  {
   "cell_type": "markdown",
   "metadata": {},
   "source": [
    "# get data and preprocess"
   ]
  },
  {
   "cell_type": "code",
   "execution_count": 6,
   "metadata": {},
   "outputs": [],
   "source": [
    "with open('data.txt', 'r', encoding='utf-8') as f:\n",
    "    text = f.read()\n",
    "\n",
    "# look up and inerse lookup\n",
    "stoi,itos = build_look_up(text)\n",
    "\n",
    "# encode data \n",
    "data = torch.tensor(encode(text,stoi),dtype=torch.long)\n",
    "\n",
    "# split train and test\n",
    "train = data[:int(split_ratio*len(data))]\n",
    "val = data[int(split_ratio*len(data)):]\n",
    "\n",
    "# get batch of data\n",
    "x,y = get_batch('train')"
   ]
  },
  {
   "cell_type": "markdown",
   "metadata": {},
   "source": [
    "# model "
   ]
  },
  {
   "cell_type": "code",
   "execution_count": 7,
   "metadata": {},
   "outputs": [],
   "source": [
    "class PositionalEncoding(nn.Module):\n",
    "\n",
    "    def __init__(self, d_model: int, dropout: float = 0.1, max_len: int = 5000):\n",
    "        super().__init__()\n",
    "        self.dropout = nn.Dropout(p=dropout)\n",
    "\n",
    "        position = torch.arange(max_len).unsqueeze(1)\n",
    "        div_term = torch.exp(torch.arange(0, d_model, 2) * (-math.log(10000.0) / d_model))\n",
    "        pe = torch.zeros(max_len, 1, d_model)\n",
    "        pe[:, 0, 0::2] = torch.sin(position * div_term)\n",
    "        pe[:, 0, 1::2] = torch.cos(position * div_term)\n",
    "        # pe: [seq_lens * 1 * d_model] for each sample\n",
    "\n",
    "        self.register_buffer('pe', pe)\n",
    "\n",
    "    def forward(self, x):\n",
    "        \"\"\"\n",
    "        Arguments:\n",
    "            x: Tensor, shape ``[seq_len, batch_size, embedding_dim]\n",
    "        \"\"\"\n",
    "        x = x + self.pe[:x.size(0)]\n",
    "        return self.dropout(x)"
   ]
  },
  {
   "cell_type": "code",
   "execution_count": 8,
   "metadata": {},
   "outputs": [],
   "source": [
    "class Head(nn.Module):\n",
    "    def __init__(self,head_size):\n",
    "        super().__init__()\n",
    "        self.head_size = head_size\n",
    "        self.key = nn.Linear(d_model,head_size,bias=False)\n",
    "        self.query = nn.Linear(d_model,head_size,bias=False)\n",
    "        self.value = nn.Linear(d_model,head_size,bias=False)\n",
    "        self.register_buffer('tril', torch.tril(torch.ones(sequence_l, sequence_l)))\n",
    "\n",
    "\n",
    "    def forward(self,x): # x:[batch, l_seq, d_model]\n",
    "        k = self.key(x) # k:[batch, l_seq, head_size]\n",
    "        q = self.query(x) # q:[batch, l_seq, head_size]\n",
    "        v = self.value(x) # v:[batch, l_seq, head_size]\n",
    "        qkt = q@k.transpose(2,1)/self.head_size**0.5 #[batch*l_seq*l_seq]  \n",
    "        qkt = qkt.masked_fill(self.tril == 0, float('-inf'))\n",
    "        qkt = F.softmax(qkt, dim = -1)\n",
    "        z = qkt@v # z:[batch * l_seq*l_seq]@[batch, l_seq, head_size] = [batch, l_seq, head_size]\n",
    "        return z\n",
    "\n",
    "\n"
   ]
  },
  {
   "cell_type": "code",
   "execution_count": 9,
   "metadata": {},
   "outputs": [],
   "source": [
    "class MultiHeadAttention(nn.Module):\n",
    "    def __init__(self,number_head,head_size):\n",
    "        super().__init__()\n",
    "        self.self_attention = nn.ModuleList([Head(head_size) for _ in range(number_head)])\n",
    "        self.w0 = nn.Linear(head_size*number_head,d_model)\n",
    "\n",
    "    def forward(self,x):\n",
    "        head_outputs = [head(x) for head in self.self_attention]\n",
    "        output = torch.cat(head_outputs, dim=-1) # [batch, l_seq, head_size*number_head]\n",
    "        output = self.w0(output) # output:[batch, l_seq, d_model], so that it can be added with residual \n",
    "        return output\n",
    "        "
   ]
  },
  {
   "cell_type": "code",
   "execution_count": 10,
   "metadata": {},
   "outputs": [],
   "source": [
    "# The Multi-Heads Self-Attention mechanism is followed by two fully connected layers of \n",
    "# the Feed Forward block. The first (hidden) layer contains 4 times as many neurons as the input \n",
    "# sequence with the ReLU activation function. The dimension of the second layer is \n",
    "# equal to the dimension of the input sequence, and neurons do not use the activation function.\n",
    "class FeedForward(nn.Module):\n",
    "    def __init__(self,d_model):\n",
    "        super().__init__()\n",
    "        self.ff=nn.Sequential( nn.Linear(d_model,4*d_model),\n",
    "                              nn.ReLU(),\n",
    "                              nn.Linear(4*d_model,d_model))\n",
    "    def forward(self,x):\n",
    "        x = self.ff(x)\n",
    "        return x"
   ]
  },
  {
   "cell_type": "code",
   "execution_count": 11,
   "metadata": {},
   "outputs": [],
   "source": [
    "class Block(nn.Module):\n",
    "    def __init__(self):\n",
    "        super().__init__()\n",
    "        head_size = d_model // number_head\n",
    "        \n",
    "        self.self_attention = MultiHeadAttention(number_head,head_size)\n",
    "        \n",
    "        self.norm1  = nn.LayerNorm(d_model)\n",
    "        \n",
    "        self.ffn = FeedForward(d_model)\n",
    "        \n",
    "        self.norm2  = nn.LayerNorm(d_model)###\n",
    "        \n",
    "    def forward(self,x):\n",
    "        x = x + self.self_attention(self.norm1(x))\n",
    "        out = x + self.ffn(self.norm2(x))\n",
    "         \n",
    "        return out    \n",
    "\n",
    "\n",
    "\n"
   ]
  },
  {
   "cell_type": "code",
   "execution_count": 12,
   "metadata": {},
   "outputs": [],
   "source": [
    "# Model\n",
    "class Model(nn.Module):\n",
    "    def __init__(self):\n",
    "        super().__init__()\n",
    "        \n",
    "        self.tok_emb = nn.Embedding(len(stoi),d_model)\n",
    "        self.pos_emb = PositionalEncoding(d_model)\n",
    "        self.dropout1 = nn.Dropout(dropout)\n",
    "        \n",
    "        self.blocks = nn.Sequential(*[Block() for _ in range(num_layer)])\n",
    "        self.norm_final = nn.LayerNorm(d_model)\n",
    "        self.predict = nn.Linear(d_model,len(stoi))\n",
    "        self.loss_compute = nn.CrossEntropyLoss()\n",
    "\n",
    "    def forward(self, x, use='train',y = None ):\n",
    "        emb_x = self.tok_emb(x)\n",
    "        emb_x = self.pos_emb(emb_x) # x,y = emb = [batch size * sequence_l * d_model]\n",
    "        emb_x = self.dropout1(emb_x)\n",
    "\n",
    "        emb_x = self.blocks(emb_x)\n",
    "        x = self.norm_final(emb_x)\n",
    "        logit = self.predict(x) #[batch size * sequence_l * number_of_char]\n",
    "        # y:[batch size * l_sequence * 1]\n",
    "\n",
    "        if use == 'train':\n",
    "            logit = logit.view(batch_size*sequence_l,len(stoi))\n",
    "            y = y.view(batch_size*sequence_l)\n",
    "            loss = self.loss_compute(logit,y)\n",
    "        elif use == 'generate':\n",
    "            loss = None\n",
    "\n",
    "        return logit, loss # loss for training, logit for generate       \n",
    "    \n",
    "    def generate(self, output_length, seed_idx):\n",
    "        for i in range(output_length):\n",
    "            logit,_ = self(seed_idx, use = 'generate')\n",
    "            prob = F.softmax(logit)\n",
    "            next_idx = prob.argmax()\n",
    "            seed_idx = torch.cat(seed_idx,next_idx)\n",
    "        return seed_idx\n",
    "\n",
    "\n",
    "            \n",
    "            "
   ]
  },
  {
   "cell_type": "code",
   "execution_count": 13,
   "metadata": {},
   "outputs": [
    {
     "name": "stdout",
     "output_type": "stream",
     "text": [
      "tensor(4.3660, grad_fn=<NllLossBackward0>)\n",
      "tensor(4.6809, grad_fn=<NllLossBackward0>)\n",
      "tensor(3.5571, grad_fn=<NllLossBackward0>)\n",
      "tensor(3.9997, grad_fn=<NllLossBackward0>)\n"
     ]
    },
    {
     "ename": "KeyboardInterrupt",
     "evalue": "",
     "output_type": "error",
     "traceback": [
      "\u001b[1;31m---------------------------------------------------------------------------\u001b[0m",
      "\u001b[1;31mKeyboardInterrupt\u001b[0m                         Traceback (most recent call last)",
      "\u001b[1;32mc:\\Users\\yy\\Desktop\\dl_project\\all_1.ipynb Cell 14\u001b[0m line \u001b[0;36m8\n\u001b[0;32m      <a href='vscode-notebook-cell:/c%3A/Users/yy/Desktop/dl_project/all_1.ipynb#X16sZmlsZQ%3D%3D?line=5'>6</a>\u001b[0m x,y \u001b[39m=\u001b[39m get_batch(\u001b[39m'\u001b[39m\u001b[39mtrain\u001b[39m\u001b[39m'\u001b[39m)\n\u001b[0;32m      <a href='vscode-notebook-cell:/c%3A/Users/yy/Desktop/dl_project/all_1.ipynb#X16sZmlsZQ%3D%3D?line=6'>7</a>\u001b[0m logit,loss \u001b[39m=\u001b[39m m(x,\u001b[39m'\u001b[39m\u001b[39mtrain\u001b[39m\u001b[39m'\u001b[39m, y)\n\u001b[1;32m----> <a href='vscode-notebook-cell:/c%3A/Users/yy/Desktop/dl_project/all_1.ipynb#X16sZmlsZQ%3D%3D?line=7'>8</a>\u001b[0m loss\u001b[39m.\u001b[39;49mbackward()\n\u001b[0;32m      <a href='vscode-notebook-cell:/c%3A/Users/yy/Desktop/dl_project/all_1.ipynb#X16sZmlsZQ%3D%3D?line=8'>9</a>\u001b[0m optimizer\u001b[39m.\u001b[39mstep()\n\u001b[0;32m     <a href='vscode-notebook-cell:/c%3A/Users/yy/Desktop/dl_project/all_1.ipynb#X16sZmlsZQ%3D%3D?line=9'>10</a>\u001b[0m \u001b[39mprint\u001b[39m(loss)\n",
      "File \u001b[1;32mc:\\Users\\yy\\AppData\\Local\\Programs\\Python\\Python311\\Lib\\site-packages\\torch\\_tensor.py:487\u001b[0m, in \u001b[0;36mTensor.backward\u001b[1;34m(self, gradient, retain_graph, create_graph, inputs)\u001b[0m\n\u001b[0;32m    477\u001b[0m \u001b[39mif\u001b[39;00m has_torch_function_unary(\u001b[39mself\u001b[39m):\n\u001b[0;32m    478\u001b[0m     \u001b[39mreturn\u001b[39;00m handle_torch_function(\n\u001b[0;32m    479\u001b[0m         Tensor\u001b[39m.\u001b[39mbackward,\n\u001b[0;32m    480\u001b[0m         (\u001b[39mself\u001b[39m,),\n\u001b[1;32m   (...)\u001b[0m\n\u001b[0;32m    485\u001b[0m         inputs\u001b[39m=\u001b[39minputs,\n\u001b[0;32m    486\u001b[0m     )\n\u001b[1;32m--> 487\u001b[0m torch\u001b[39m.\u001b[39;49mautograd\u001b[39m.\u001b[39;49mbackward(\n\u001b[0;32m    488\u001b[0m     \u001b[39mself\u001b[39;49m, gradient, retain_graph, create_graph, inputs\u001b[39m=\u001b[39;49minputs\n\u001b[0;32m    489\u001b[0m )\n",
      "File \u001b[1;32mc:\\Users\\yy\\AppData\\Local\\Programs\\Python\\Python311\\Lib\\site-packages\\torch\\autograd\\__init__.py:200\u001b[0m, in \u001b[0;36mbackward\u001b[1;34m(tensors, grad_tensors, retain_graph, create_graph, grad_variables, inputs)\u001b[0m\n\u001b[0;32m    195\u001b[0m     retain_graph \u001b[39m=\u001b[39m create_graph\n\u001b[0;32m    197\u001b[0m \u001b[39m# The reason we repeat same the comment below is that\u001b[39;00m\n\u001b[0;32m    198\u001b[0m \u001b[39m# some Python versions print out the first line of a multi-line function\u001b[39;00m\n\u001b[0;32m    199\u001b[0m \u001b[39m# calls in the traceback and some print out the last line\u001b[39;00m\n\u001b[1;32m--> 200\u001b[0m Variable\u001b[39m.\u001b[39;49m_execution_engine\u001b[39m.\u001b[39;49mrun_backward(  \u001b[39m# Calls into the C++ engine to run the backward pass\u001b[39;49;00m\n\u001b[0;32m    201\u001b[0m     tensors, grad_tensors_, retain_graph, create_graph, inputs,\n\u001b[0;32m    202\u001b[0m     allow_unreachable\u001b[39m=\u001b[39;49m\u001b[39mTrue\u001b[39;49;00m, accumulate_grad\u001b[39m=\u001b[39;49m\u001b[39mTrue\u001b[39;49;00m)\n",
      "\u001b[1;31mKeyboardInterrupt\u001b[0m: "
     ]
    }
   ],
   "source": [
    "model = Model()\n",
    "m = model.to(device)\n",
    "optimizer = torch.optim.AdamW(model.parameters(), lr=learning_rate)\n",
    "\n",
    "for epoch in range(max_epoch):\n",
    "    x,y = get_batch('train')\n",
    "    logit,loss = m(x,'train', y)\n",
    "    loss.backward()\n",
    "    optimizer.step()\n",
    "    print(loss)"
   ]
  },
  {
   "cell_type": "markdown",
   "metadata": {},
   "source": [
    "# Result generation"
   ]
  },
  {
   "cell_type": "code",
   "execution_count": 47,
   "metadata": {},
   "outputs": [
    {
     "name": "stdout",
     "output_type": "stream",
     "text": [
      "[1, 1, 1, 1, 1, 1, 1, 1, 1, 1, 1, 1, 1, 1, 1, 1, 1, 1, 1, 1, 1, 1, 1, 1, 1, 1, 1, 1, 1, 1, 1, 1, 1, 1, 1, 1, 1, 1, 1, 1, 1, 1, 1, 1, 1, 1, 1, 1, 1, 1, 1, 1, 1, 1, 1, 1, 1, 1, 1, 1, 1, 1, 1, 1, 1, 1, 1, 1, 1, 1, 1, 1, 1, 1, 1, 1, 1, 1, 1, 1, 1, 1, 1, 1, 1, 1, 1, 1, 1, 1, 1, 1, 1, 1, 1, 1, 1, 1, 1, 1, 1, 1, 1, 1, 1, 1, 1, 1, 1, 1, 1, 1, 1, 1, 1, 1, 1, 1, 18, 47, 56, 57, 58, 1, 15, 47, 58, 47]\n",
      "128\n",
      "[1, 1, 1, 1, 1, 1, 1, 1, 1, 1, 1, 1, 1, 1, 1, 1, 1, 1, 1, 1, 1, 1, 1, 1, 1, 1, 1, 1, 1, 1, 1, 1, 1, 1, 1, 1, 1, 1, 1, 1, 1, 1, 1, 1, 1, 1, 1, 1, 1, 1, 1, 1, 1, 1, 1, 1, 1, 1, 1, 1, 1, 1, 1, 1, 1, 1, 1, 1, 1, 1, 1, 1, 1, 1, 1, 1, 1, 1, 1, 1, 1, 1, 1, 1, 1, 1, 1, 1, 1, 1, 1, 1, 1, 1, 1, 1, 1, 1, 1, 1, 1, 1, 1, 1, 1, 1, 1, 1, 1, 1, 1, 1, 1, 1, 1, 1, 1, 1, 18, 47, 56, 57, 58, 1, 15, 47, 58, 47]\n"
     ]
    }
   ],
   "source": [
    "seed = text[:10]\n",
    "stoi[' ']\n",
    "empty = \" \"*sequence_l\n",
    "seed_idx = encode(seed,stoi)\n",
    "if len(seed)<len(input):\n",
    "    input_idx = encode(input,stoi)\n",
    "    input_idx[-len(seed):] = seed_idx\n",
    "else: \n",
    "    input_idx = seed_idx[:sequence_l]\n",
    "\n",
    "print(len(input_idx))  \n",
    "print(input_idx)\n"
   ]
  },
  {
   "cell_type": "code",
   "execution_count": 44,
   "metadata": {},
   "outputs": [
    {
     "data": {
      "text/plain": [
       "\"First Citizen:\\nBefore we proceed any further, hear me speak.\\n\\nAll:\\nSpeak, speak.\\n\\nFirst Citizen:\\nYou are all resolved rather to die than to famish?\\n\\nAll:\\nResolved. resolved.\\n\\nFirst Citizen:\\nFirst, you know Caius Marcius is chief enemy to the people.\\n\\nAll:\\nWe know't, we know't.\\n\\nFirst Citizen:\\nLet us kill him, and we'll have corn at our own price.\\nIs't a verdict?\\n\\nAll:\\nNo more talking on't; let it be done: away, away!\\n\\nSecond Citizen:\\nOne word, good citizens.\\n\\nFirst Citizen:\\nWe are accounted poor citizens, the patricians good.\\nWhat authority surfeits on would relieve us: if they\\nwould yield us but the superfluity, while it were\\nwholesome, we might guess they relieved us humanely;\\nbut they think we are too dear: the leanness that\\nafflicts us, the object of our misery, is as an\\ninventory to particularise their abundance; our\\nsufferance is a gain to them Let us revenge this with\\nour pikes, ere we become rakes: for the gods know I\\nspeak this in hunger for bread, not in thirst for revenge.\\n\\n\""
      ]
     },
     "execution_count": 44,
     "metadata": {},
     "output_type": "execute_result"
    }
   ],
   "source": [
    "text[:1000]"
   ]
  }
 ],
 "metadata": {
  "kernelspec": {
   "display_name": "Python 3",
   "language": "python",
   "name": "python3"
  },
  "language_info": {
   "codemirror_mode": {
    "name": "ipython",
    "version": 3
   },
   "file_extension": ".py",
   "mimetype": "text/x-python",
   "name": "python",
   "nbconvert_exporter": "python",
   "pygments_lexer": "ipython3",
   "version": "3.11.1"
  }
 },
 "nbformat": 4,
 "nbformat_minor": 2
}
