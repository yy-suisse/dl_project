{
 "cells": [
  {
   "cell_type": "code",
   "execution_count": 4,
   "metadata": {},
   "outputs": [],
   "source": [
    "import custum_dataset\n",
    "import util\n",
    "path = f'C:/Users/yy/Desktop/dl_project/data/data.txt'  \n",
    "split = 0.8\n",
    "data_train,stoi,itos = util.load_data_with_split(path,split,type='train')\n",
    "data_test,_,_ = util.load_data_with_split(path,split,type='test')"
   ]
  },
  {
   "cell_type": "code",
   "execution_count": 7,
   "metadata": {},
   "outputs": [
    {
     "name": "stdout",
     "output_type": "stream",
     "text": [
      "[46, 47, 47, 1, 58, 46, 43, 56, 43]\n"
     ]
    }
   ],
   "source": [
    "stri = \"hii there\"\n",
    "print(util.encode(stri,stoi))"
   ]
  },
  {
   "cell_type": "code",
   "execution_count": 12,
   "metadata": {},
   "outputs": [],
   "source": [
    "import torch \n",
    "k = torch.rand((3,4,5)) \n"
   ]
  },
  {
   "cell_type": "code",
   "execution_count": 1,
   "metadata": {},
   "outputs": [],
   "source": [
    "import torch\n",
    "import util\n",
    "import custum_dataset\n",
    "from torch.utils.data import DataLoader\n",
    "from model import Model\n",
    "import torch.optim.lr_scheduler as lr_scheduler\n"
   ]
  },
  {
   "cell_type": "code",
   "execution_count": 2,
   "metadata": {},
   "outputs": [],
   "source": [
    "device = torch.device(\"cuda:0\" if torch.cuda.is_available() else \"cpu\")\n",
    "path = f'C:/Users/yy/Desktop/dl_project/data/data.txt'  \n",
    "split = 0.8\n",
    "data_train,stoi,itos = util.load_data_with_split(path,split,type='train')\n",
    "data_test,_,_ = util.load_data_with_split(path,split,type='test')\n",
    "\n",
    "c = util.config()\n",
    "\n",
    "\n",
    "dataset_train = custum_dataset.CustomDataset(c.sequence_l,device,stoi,itos,data_train,repeat = False)\n",
    "data_loader_train = DataLoader(dataset_train, c.batch_size, shuffle=True)\n",
    "\n",
    "dataset_test = custum_dataset.CustomDataset(c.sequence_l,device,stoi,itos,data_test,repeat = False)\n",
    "data_loader_test = DataLoader(dataset_test, c.batch_size, shuffle=True)\n"
   ]
  },
  {
   "cell_type": "code",
   "execution_count": 3,
   "metadata": {},
   "outputs": [],
   "source": [
    "model = Model(stoi=dataset_train.stoi)\n",
    "m = model.to(device)"
   ]
  },
  {
   "cell_type": "code",
   "execution_count": 4,
   "metadata": {},
   "outputs": [
    {
     "data": {
      "text/plain": [
       "tensor([46, 47,  6,  1, 63, 53, 34,  5, 13, 52, 63, 61, 18, 17, 51, 47, 45, 28,\n",
       "        40, 43, 20], device='cuda:0')"
      ]
     },
     "execution_count": 4,
     "metadata": {},
     "output_type": "execute_result"
    }
   ],
   "source": [
    "y = 'hi, yo'\n",
    "y =util.encode(y,stoi)\n",
    "input_idx = torch.tensor(y,dtype=torch.long).to(device)\n",
    "m.generate( 15, input_idx, 'criteria')"
   ]
  }
 ],
 "metadata": {
  "kernelspec": {
   "display_name": "Python 3",
   "language": "python",
   "name": "python3"
  },
  "language_info": {
   "codemirror_mode": {
    "name": "ipython",
    "version": 3
   },
   "file_extension": ".py",
   "mimetype": "text/x-python",
   "name": "python",
   "nbconvert_exporter": "python",
   "pygments_lexer": "ipython3",
   "version": "3.11.1"
  }
 },
 "nbformat": 4,
 "nbformat_minor": 2
}
