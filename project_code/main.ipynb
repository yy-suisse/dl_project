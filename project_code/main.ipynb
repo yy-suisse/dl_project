{
 "cells": [
  {
   "cell_type": "code",
   "execution_count": 1,
   "metadata": {},
   "outputs": [],
   "source": [
    "import torch\n",
    "import util\n",
    "import custum_dataset\n",
    "from torch.utils.data import DataLoader\n",
    "from model import Model\n",
    "import torch.optim.lr_scheduler as lr_scheduler\n"
   ]
  },
  {
   "cell_type": "code",
   "execution_count": 2,
   "metadata": {},
   "outputs": [],
   "source": [
    "device = torch.device(\"cuda:0\" if torch.cuda.is_available() else \"cpu\")\n",
    "path = f'C:/Users/yy/Desktop/dl_project/data/data.txt'  \n",
    "split = 0.8\n",
    "data_train,stoi,itos = util.load_data_with_split(path,split,type='train')\n",
    "data_test,_,_ = util.load_data_with_split(path,split,type='test')\n",
    "\n",
    "c = util.config()\n",
    "\n",
    "\n",
    "dataset_train = custum_dataset.CustomDataset(c.sequence_l,device,stoi,itos,data_train,repeat = False)\n",
    "data_loader_train = DataLoader(dataset_train, c.batch_size, shuffle=True)\n",
    "\n",
    "dataset_test = custum_dataset.CustomDataset(c.sequence_l,device,stoi,itos,data_test,repeat = False)\n",
    "data_loader_test = DataLoader(dataset_test, c.batch_size, shuffle=True)\n",
    "\n",
    "model = Model(stoi=dataset_train.stoi)\n",
    "m = model.to(device)\n",
    "optimizer = torch.optim.Adam(model.parameters(), lr=c.learning_rate)\n",
    "scheduler = lr_scheduler.ReduceLROnPlateau(optimizer,mode='min', factor=0.1, patience=5)\n",
    "\n"
   ]
  },
  {
   "cell_type": "markdown",
   "metadata": {},
   "source": [
    "# Training loop\n",
    "lr decay: https://pytorch.org/docs/stable/optim.html"
   ]
  },
  {
   "cell_type": "code",
   "execution_count": 3,
   "metadata": {},
   "outputs": [
    {
     "name": "stdout",
     "output_type": "stream",
     "text": [
      "epoch:  0\n",
      "tensor(4.3855, device='cuda:0', grad_fn=<NllLossBackward0>)\n",
      "tensor(6.2467, device='cuda:0')\n",
      "epoch:  1\n",
      "tensor(6.0536, device='cuda:0', grad_fn=<NllLossBackward0>)\n",
      "tensor(4.6161, device='cuda:0')\n",
      "epoch:  2\n",
      "tensor(4.5183, device='cuda:0', grad_fn=<NllLossBackward0>)\n",
      "tensor(4.5196, device='cuda:0')\n",
      "epoch:  3\n",
      "tensor(4.4551, device='cuda:0', grad_fn=<NllLossBackward0>)\n",
      "tensor(4.2829, device='cuda:0')\n",
      "epoch:  4\n",
      "tensor(4.2784, device='cuda:0', grad_fn=<NllLossBackward0>)\n",
      "tensor(4.0810, device='cuda:0')\n",
      "epoch:  5\n",
      "tensor(4.0863, device='cuda:0', grad_fn=<NllLossBackward0>)\n",
      "tensor(3.8917, device='cuda:0')\n",
      "epoch:  6\n",
      "tensor(3.8892, device='cuda:0', grad_fn=<NllLossBackward0>)\n",
      "tensor(3.6655, device='cuda:0')\n",
      "epoch:  7\n",
      "tensor(3.6906, device='cuda:0', grad_fn=<NllLossBackward0>)\n",
      "tensor(3.4900, device='cuda:0')\n",
      "epoch:  8\n",
      "tensor(3.5189, device='cuda:0', grad_fn=<NllLossBackward0>)\n",
      "tensor(3.3681, device='cuda:0')\n",
      "epoch:  9\n",
      "tensor(3.3509, device='cuda:0', grad_fn=<NllLossBackward0>)\n",
      "tensor(3.3328, device='cuda:0')\n",
      "epoch:  10\n",
      "tensor(3.3353, device='cuda:0', grad_fn=<NllLossBackward0>)\n",
      "tensor(3.3898, device='cuda:0')\n",
      "epoch:  11\n",
      "tensor(3.3525, device='cuda:0', grad_fn=<NllLossBackward0>)\n",
      "tensor(3.4544, device='cuda:0')\n",
      "epoch:  12\n",
      "tensor(3.4408, device='cuda:0', grad_fn=<NllLossBackward0>)\n",
      "tensor(3.4621, device='cuda:0')\n",
      "epoch:  13\n",
      "tensor(3.4559, device='cuda:0', grad_fn=<NllLossBackward0>)\n",
      "tensor(3.4118, device='cuda:0')\n",
      "epoch:  14\n",
      "tensor(3.4193, device='cuda:0', grad_fn=<NllLossBackward0>)\n",
      "tensor(3.3464, device='cuda:0')\n",
      "epoch:  15\n",
      "tensor(3.3709, device='cuda:0', grad_fn=<NllLossBackward0>)\n",
      "tensor(3.3467, device='cuda:0')\n",
      "epoch:  16\n",
      "tensor(3.3363, device='cuda:0', grad_fn=<NllLossBackward0>)\n",
      "tensor(3.3498, device='cuda:0')\n",
      "epoch:  17\n",
      "tensor(3.3269, device='cuda:0', grad_fn=<NllLossBackward0>)\n",
      "tensor(3.3597, device='cuda:0')\n",
      "epoch:  18\n",
      "tensor(3.3420, device='cuda:0', grad_fn=<NllLossBackward0>)\n",
      "tensor(3.3575, device='cuda:0')\n",
      "epoch:  19\n",
      "tensor(3.3563, device='cuda:0', grad_fn=<NllLossBackward0>)\n",
      "tensor(3.3350, device='cuda:0')\n",
      "epoch:  20\n",
      "tensor(3.2963, device='cuda:0', grad_fn=<NllLossBackward0>)\n",
      "tensor(3.3661, device='cuda:0')\n",
      "epoch:  21\n",
      "tensor(3.2977, device='cuda:0', grad_fn=<NllLossBackward0>)\n",
      "tensor(3.3273, device='cuda:0')\n",
      "epoch:  22\n",
      "tensor(3.2986, device='cuda:0', grad_fn=<NllLossBackward0>)\n",
      "tensor(3.3247, device='cuda:0')\n",
      "epoch:  23\n",
      "tensor(3.3277, device='cuda:0', grad_fn=<NllLossBackward0>)\n",
      "tensor(3.3033, device='cuda:0')\n",
      "epoch:  24\n",
      "tensor(3.3020, device='cuda:0', grad_fn=<NllLossBackward0>)\n",
      "tensor(3.3209, device='cuda:0')\n",
      "epoch:  25\n",
      "tensor(3.2884, device='cuda:0', grad_fn=<NllLossBackward0>)\n",
      "tensor(3.3089, device='cuda:0')\n",
      "epoch:  26\n",
      "tensor(3.2968, device='cuda:0', grad_fn=<NllLossBackward0>)\n",
      "tensor(3.3234, device='cuda:0')\n",
      "epoch:  27\n",
      "tensor(3.3109, device='cuda:0', grad_fn=<NllLossBackward0>)\n",
      "tensor(3.3061, device='cuda:0')\n",
      "epoch:  28\n",
      "tensor(3.2867, device='cuda:0', grad_fn=<NllLossBackward0>)\n",
      "tensor(3.2986, device='cuda:0')\n",
      "epoch:  29\n",
      "tensor(3.3173, device='cuda:0', grad_fn=<NllLossBackward0>)\n",
      "tensor(3.3128, device='cuda:0')\n",
      "epoch:  30\n",
      "tensor(3.2927, device='cuda:0', grad_fn=<NllLossBackward0>)\n",
      "tensor(3.3008, device='cuda:0')\n",
      "epoch:  31\n",
      "tensor(3.2976, device='cuda:0', grad_fn=<NllLossBackward0>)\n",
      "tensor(3.2856, device='cuda:0')\n",
      "epoch:  32\n",
      "tensor(3.2570, device='cuda:0', grad_fn=<NllLossBackward0>)\n",
      "tensor(3.2884, device='cuda:0')\n",
      "epoch:  33\n",
      "tensor(3.2795, device='cuda:0', grad_fn=<NllLossBackward0>)\n",
      "tensor(3.2646, device='cuda:0')\n",
      "epoch:  34\n",
      "tensor(3.2908, device='cuda:0', grad_fn=<NllLossBackward0>)\n",
      "tensor(3.2710, device='cuda:0')\n",
      "epoch:  35\n",
      "tensor(3.2532, device='cuda:0', grad_fn=<NllLossBackward0>)\n",
      "tensor(3.2753, device='cuda:0')\n",
      "epoch:  36\n",
      "tensor(3.2648, device='cuda:0', grad_fn=<NllLossBackward0>)\n",
      "tensor(3.3058, device='cuda:0')\n",
      "epoch:  37\n",
      "tensor(3.2720, device='cuda:0', grad_fn=<NllLossBackward0>)\n",
      "tensor(3.2688, device='cuda:0')\n",
      "epoch:  38\n",
      "tensor(3.2849, device='cuda:0', grad_fn=<NllLossBackward0>)\n",
      "tensor(3.2915, device='cuda:0')\n",
      "epoch:  39\n",
      "tensor(3.2720, device='cuda:0', grad_fn=<NllLossBackward0>)\n",
      "tensor(3.2724, device='cuda:0')\n",
      "epoch:  40\n",
      "tensor(3.2415, device='cuda:0', grad_fn=<NllLossBackward0>)\n",
      "tensor(3.2811, device='cuda:0')\n",
      "epoch:  41\n",
      "tensor(3.2675, device='cuda:0', grad_fn=<NllLossBackward0>)\n",
      "tensor(3.2915, device='cuda:0')\n",
      "epoch:  42\n",
      "tensor(3.2821, device='cuda:0', grad_fn=<NllLossBackward0>)\n",
      "tensor(3.2682, device='cuda:0')\n",
      "epoch:  43\n",
      "tensor(3.2595, device='cuda:0', grad_fn=<NllLossBackward0>)\n",
      "tensor(3.2934, device='cuda:0')\n",
      "epoch:  44\n",
      "tensor(3.3039, device='cuda:0', grad_fn=<NllLossBackward0>)\n",
      "tensor(3.2740, device='cuda:0')\n",
      "epoch:  45\n",
      "tensor(3.2532, device='cuda:0', grad_fn=<NllLossBackward0>)\n",
      "tensor(3.2928, device='cuda:0')\n",
      "epoch:  46\n",
      "tensor(3.2430, device='cuda:0', grad_fn=<NllLossBackward0>)\n",
      "tensor(3.2783, device='cuda:0')\n",
      "epoch:  47\n",
      "tensor(3.2595, device='cuda:0', grad_fn=<NllLossBackward0>)\n",
      "tensor(3.2290, device='cuda:0')\n",
      "epoch:  48\n",
      "tensor(3.2621, device='cuda:0', grad_fn=<NllLossBackward0>)\n",
      "tensor(3.3011, device='cuda:0')\n",
      "epoch:  49\n",
      "tensor(3.2527, device='cuda:0', grad_fn=<NllLossBackward0>)\n",
      "tensor(3.2995, device='cuda:0')\n",
      "epoch:  50\n",
      "tensor(3.2937, device='cuda:0', grad_fn=<NllLossBackward0>)\n",
      "tensor(3.2842, device='cuda:0')\n",
      "epoch:  51\n",
      "tensor(3.2849, device='cuda:0', grad_fn=<NllLossBackward0>)\n",
      "tensor(3.2910, device='cuda:0')\n",
      "epoch:  52\n",
      "tensor(3.2717, device='cuda:0', grad_fn=<NllLossBackward0>)\n",
      "tensor(3.3059, device='cuda:0')\n",
      "epoch:  53\n",
      "tensor(3.2708, device='cuda:0', grad_fn=<NllLossBackward0>)\n",
      "tensor(3.2757, device='cuda:0')\n",
      "epoch:  54\n",
      "tensor(3.2714, device='cuda:0', grad_fn=<NllLossBackward0>)\n",
      "tensor(3.2555, device='cuda:0')\n",
      "epoch:  55\n",
      "tensor(3.2532, device='cuda:0', grad_fn=<NllLossBackward0>)\n",
      "tensor(3.2862, device='cuda:0')\n",
      "epoch:  56\n",
      "tensor(3.2932, device='cuda:0', grad_fn=<NllLossBackward0>)\n",
      "tensor(3.2780, device='cuda:0')\n",
      "epoch:  57\n",
      "tensor(3.2680, device='cuda:0', grad_fn=<NllLossBackward0>)\n",
      "tensor(3.2774, device='cuda:0')\n",
      "epoch:  58\n",
      "tensor(3.2631, device='cuda:0', grad_fn=<NllLossBackward0>)\n",
      "tensor(3.2938, device='cuda:0')\n",
      "epoch:  59\n",
      "tensor(3.2460, device='cuda:0', grad_fn=<NllLossBackward0>)\n",
      "tensor(3.2736, device='cuda:0')\n",
      "epoch:  60\n",
      "tensor(3.2582, device='cuda:0', grad_fn=<NllLossBackward0>)\n",
      "tensor(3.2843, device='cuda:0')\n",
      "epoch:  61\n",
      "tensor(3.2915, device='cuda:0', grad_fn=<NllLossBackward0>)\n",
      "tensor(3.3030, device='cuda:0')\n",
      "epoch:  62\n",
      "tensor(3.2825, device='cuda:0', grad_fn=<NllLossBackward0>)\n",
      "tensor(3.3119, device='cuda:0')\n",
      "epoch:  63\n",
      "tensor(3.2884, device='cuda:0', grad_fn=<NllLossBackward0>)\n",
      "tensor(3.2596, device='cuda:0')\n",
      "epoch:  64\n",
      "tensor(3.2603, device='cuda:0', grad_fn=<NllLossBackward0>)\n",
      "tensor(3.2893, device='cuda:0')\n",
      "epoch:  65\n",
      "tensor(3.2877, device='cuda:0', grad_fn=<NllLossBackward0>)\n",
      "tensor(3.2844, device='cuda:0')\n",
      "epoch:  66\n",
      "tensor(3.2666, device='cuda:0', grad_fn=<NllLossBackward0>)\n",
      "tensor(3.2929, device='cuda:0')\n",
      "epoch:  67\n",
      "tensor(3.2692, device='cuda:0', grad_fn=<NllLossBackward0>)\n",
      "tensor(3.2889, device='cuda:0')\n",
      "epoch:  68\n",
      "tensor(3.2529, device='cuda:0', grad_fn=<NllLossBackward0>)\n",
      "tensor(3.2791, device='cuda:0')\n",
      "epoch:  69\n",
      "tensor(3.2912, device='cuda:0', grad_fn=<NllLossBackward0>)\n",
      "tensor(3.2824, device='cuda:0')\n",
      "epoch:  70\n",
      "tensor(3.2706, device='cuda:0', grad_fn=<NllLossBackward0>)\n",
      "tensor(3.2939, device='cuda:0')\n",
      "epoch:  71\n",
      "tensor(3.2761, device='cuda:0', grad_fn=<NllLossBackward0>)\n",
      "tensor(3.2548, device='cuda:0')\n",
      "epoch:  72\n",
      "tensor(3.2753, device='cuda:0', grad_fn=<NllLossBackward0>)\n",
      "tensor(3.3038, device='cuda:0')\n",
      "epoch:  73\n",
      "tensor(3.2694, device='cuda:0', grad_fn=<NllLossBackward0>)\n",
      "tensor(3.2883, device='cuda:0')\n",
      "epoch:  74\n",
      "tensor(3.2782, device='cuda:0', grad_fn=<NllLossBackward0>)\n",
      "tensor(3.2856, device='cuda:0')\n",
      "epoch:  75\n",
      "tensor(3.2673, device='cuda:0', grad_fn=<NllLossBackward0>)\n",
      "tensor(3.2699, device='cuda:0')\n",
      "epoch:  76\n",
      "tensor(3.2808, device='cuda:0', grad_fn=<NllLossBackward0>)\n",
      "tensor(3.2939, device='cuda:0')\n",
      "epoch:  77\n",
      "tensor(3.2697, device='cuda:0', grad_fn=<NllLossBackward0>)\n",
      "tensor(3.2923, device='cuda:0')\n",
      "epoch:  78\n",
      "tensor(3.2965, device='cuda:0', grad_fn=<NllLossBackward0>)\n",
      "tensor(3.3136, device='cuda:0')\n",
      "epoch:  79\n",
      "tensor(3.2931, device='cuda:0', grad_fn=<NllLossBackward0>)\n",
      "tensor(3.2944, device='cuda:0')\n",
      "epoch:  80\n",
      "tensor(3.2667, device='cuda:0', grad_fn=<NllLossBackward0>)\n",
      "tensor(3.2974, device='cuda:0')\n",
      "epoch:  81\n",
      "tensor(3.2854, device='cuda:0', grad_fn=<NllLossBackward0>)\n",
      "tensor(3.2725, device='cuda:0')\n",
      "epoch:  82\n",
      "tensor(3.2822, device='cuda:0', grad_fn=<NllLossBackward0>)\n",
      "tensor(3.2994, device='cuda:0')\n",
      "epoch:  83\n",
      "tensor(3.2951, device='cuda:0', grad_fn=<NllLossBackward0>)\n",
      "tensor(3.2996, device='cuda:0')\n",
      "epoch:  84\n",
      "tensor(3.2870, device='cuda:0', grad_fn=<NllLossBackward0>)\n",
      "tensor(3.2767, device='cuda:0')\n",
      "epoch:  85\n",
      "tensor(3.2815, device='cuda:0', grad_fn=<NllLossBackward0>)\n",
      "tensor(3.2795, device='cuda:0')\n",
      "epoch:  86\n",
      "tensor(3.2925, device='cuda:0', grad_fn=<NllLossBackward0>)\n",
      "tensor(3.2830, device='cuda:0')\n",
      "epoch:  87\n",
      "tensor(3.2885, device='cuda:0', grad_fn=<NllLossBackward0>)\n",
      "tensor(3.3004, device='cuda:0')\n",
      "epoch:  88\n",
      "tensor(3.2726, device='cuda:0', grad_fn=<NllLossBackward0>)\n",
      "tensor(3.2815, device='cuda:0')\n",
      "epoch:  89\n",
      "tensor(3.2846, device='cuda:0', grad_fn=<NllLossBackward0>)\n",
      "tensor(3.2788, device='cuda:0')\n",
      "epoch:  90\n",
      "tensor(3.2788, device='cuda:0', grad_fn=<NllLossBackward0>)\n",
      "tensor(3.2715, device='cuda:0')\n",
      "epoch:  91\n",
      "tensor(3.2854, device='cuda:0', grad_fn=<NllLossBackward0>)\n",
      "tensor(3.2949, device='cuda:0')\n",
      "epoch:  92\n",
      "tensor(3.2839, device='cuda:0', grad_fn=<NllLossBackward0>)\n",
      "tensor(3.2742, device='cuda:0')\n",
      "epoch:  93\n",
      "tensor(3.2728, device='cuda:0', grad_fn=<NllLossBackward0>)\n",
      "tensor(3.2871, device='cuda:0')\n",
      "epoch:  94\n",
      "tensor(3.2707, device='cuda:0', grad_fn=<NllLossBackward0>)\n",
      "tensor(3.2882, device='cuda:0')\n",
      "epoch:  95\n",
      "tensor(3.2720, device='cuda:0', grad_fn=<NllLossBackward0>)\n",
      "tensor(3.2820, device='cuda:0')\n",
      "epoch:  96\n",
      "tensor(3.2684, device='cuda:0', grad_fn=<NllLossBackward0>)\n",
      "tensor(3.2889, device='cuda:0')\n",
      "epoch:  97\n",
      "tensor(3.2648, device='cuda:0', grad_fn=<NllLossBackward0>)\n",
      "tensor(3.2961, device='cuda:0')\n",
      "epoch:  98\n",
      "tensor(3.2574, device='cuda:0', grad_fn=<NllLossBackward0>)\n",
      "tensor(3.3075, device='cuda:0')\n",
      "epoch:  99\n",
      "tensor(3.2636, device='cuda:0', grad_fn=<NllLossBackward0>)\n",
      "tensor(3.3191, device='cuda:0')\n"
     ]
    }
   ],
   "source": [
    "train_loss = []\n",
    "test_loss = []\n",
    "perplexity_train = []\n",
    "perplexity_test = []\n",
    "\n",
    "for epoch in range(100):\n",
    "    print(\"epoch: \", epoch)\n",
    "    model.train()\n",
    "    inputs, targets = next(iter(data_loader_train))\n",
    "    _,loss = m(inputs,'train', targets)\n",
    "    optimizer.zero_grad()\n",
    "    loss.backward()\n",
    "    optimizer.step()\n",
    "\n",
    "        \n",
    "    model.eval()\n",
    "    inputs_t, targets_t = next(iter(data_loader_test))\n",
    "\n",
    "    with torch.inference_mode():\n",
    "        _,loss_t = m(inputs_t,'train', targets_t)\n",
    "    scheduler.step(loss_t)\n",
    "\n",
    "    print(loss)\n",
    "    print(loss_t)\n",
    "\n",
    "    train_loss.append(loss.cpu().detach().numpy())\n",
    "    test_loss.append(loss_t.cpu().detach().numpy())\n",
    "    perplexity_train.append(torch.exp(loss).cpu().detach().numpy())\n",
    "    perplexity_test.append(torch.exp(loss_t).cpu().detach().numpy())\n",
    "\n"
   ]
  },
  {
   "cell_type": "code",
   "execution_count": 4,
   "metadata": {},
   "outputs": [
    {
     "data": {
      "text/plain": [
       "[<matplotlib.lines.Line2D at 0x24c556cc2d0>]"
      ]
     },
     "execution_count": 4,
     "metadata": {},
     "output_type": "execute_result"
    },
    {
     "data": {
      "image/png": "[encoded data removed]",
      "text/plain": [
       "<Figure size 640x480 with 1 Axes>"
      ]
     },
     "metadata": {},
     "output_type": "display_data"
    }
   ],
   "source": [
    "import matplotlib.pyplot as plt\n",
    "import numpy as np\n",
    "epoch_list = np.arange(0,len(train_loss))\n",
    "plt.plot(epoch_list,perplexity_train)\n",
    "plt.plot(epoch_list,perplexity_test)"
   ]
  },
  {
   "cell_type": "code",
   "execution_count": 5,
   "metadata": {},
   "outputs": [
    {
     "data": {
      "text/plain": [
       "array(3.2415125, dtype=float32)"
      ]
     },
     "execution_count": 5,
     "metadata": {},
     "output_type": "execute_result"
    },
    {
     "data": {
      "image/png": "[encoded data removed]",
      "text/plain": [
       "<Figure size 640x480 with 1 Axes>"
      ]
     },
     "metadata": {},
     "output_type": "display_data"
    }
   ],
   "source": [
    "epoch_list = np.arange(0,len(train_loss))\n",
    "plt.plot(epoch_list,train_loss)\n",
    "plt.plot(epoch_list,test_loss)\n",
    "min(train_loss)\n"
   ]
  },
  {
   "cell_type": "markdown",
   "metadata": {},
   "source": [
    "# save model"
   ]
  },
  {
   "cell_type": "code",
   "execution_count": 6,
   "metadata": {},
   "outputs": [
    {
     "name": "stdout",
     "output_type": "stream",
     "text": [
      "Saving model to: models\\100_step_decay_with_init_1.pth\n"
     ]
    }
   ],
   "source": [
    "# save model\n",
    "from pathlib import Path\n",
    "\n",
    "# 1. Create models directory \n",
    "MODEL_PATH = Path(\"models\")\n",
    "MODEL_PATH.mkdir(parents=True, exist_ok=True)\n",
    "\n",
    "# 2. Create model save path \n",
    "MODEL_NAME = \"100_step_decay_with_init_1.pth\"\n",
    "MODEL_SAVE_PATH = MODEL_PATH / MODEL_NAME\n",
    "\n",
    "# 3. Save the model state dict \n",
    "print(f\"Saving model to: {MODEL_SAVE_PATH}\")\n",
    "torch.save(obj=m.state_dict(), # only saving the state_dict() only saves the models learned parameters\n",
    "           f=MODEL_SAVE_PATH) "
   ]
  },
  {
   "cell_type": "code",
   "execution_count": 7,
   "metadata": {},
   "outputs": [
    {
     "data": {
      "text/plain": [
       "WindowsPath('models/100_step_decay_with_init_1.pth')"
      ]
     },
     "execution_count": 7,
     "metadata": {},
     "output_type": "execute_result"
    }
   ],
   "source": [
    "MODEL_SAVE_PATH"
   ]
  },
  {
   "cell_type": "markdown",
   "metadata": {},
   "source": [
    "# generation:"
   ]
  },
  {
   "cell_type": "code",
   "execution_count": 14,
   "metadata": {},
   "outputs": [],
   "source": [
    "seed = \" \"\n",
    "\n",
    "\n",
    "input_idx = util.encode(seed,stoi)\n",
    "\n",
    "input_idx = torch.tensor(input_idx,dtype=torch.long)\n",
    "input_idx = torch.unsqueeze(input_idx, 0).to(device)\n"
   ]
  },
  {
   "cell_type": "code",
   "execution_count": 23,
   "metadata": {},
   "outputs": [
    {
     "ename": "TypeError",
     "evalue": "unhashable type: 'list'",
     "output_type": "error",
     "traceback": [
      "\u001b[1;31m---------------------------------------------------------------------------\u001b[0m",
      "\u001b[1;31mTypeError\u001b[0m                                 Traceback (most recent call last)",
      "\u001b[1;32mc:\\Users\\yy\\Desktop\\dl_project\\project_code\\main.ipynb Cell 12\u001b[0m line \u001b[0;36m4\n\u001b[0;32m      <a href='vscode-notebook-cell:/c%3A/Users/yy/Desktop/dl_project/project_code/main.ipynb#X14sZmlsZQ%3D%3D?line=1'>2</a>\u001b[0m \u001b[39mwith\u001b[39;00m torch\u001b[39m.\u001b[39mno_grad():\n\u001b[0;32m      <a href='vscode-notebook-cell:/c%3A/Users/yy/Desktop/dl_project/project_code/main.ipynb#X14sZmlsZQ%3D%3D?line=2'>3</a>\u001b[0m     out \u001b[39m=\u001b[39m m\u001b[39m.\u001b[39mgenerate(\u001b[39m5\u001b[39m,input_idx,\u001b[39m'\u001b[39m\u001b[39mhi\u001b[39m\u001b[39m'\u001b[39m)\n\u001b[1;32m----> <a href='vscode-notebook-cell:/c%3A/Users/yy/Desktop/dl_project/project_code/main.ipynb#X14sZmlsZQ%3D%3D?line=3'>4</a>\u001b[0m     \u001b[39mprint\u001b[39m(util\u001b[39m.\u001b[39;49mdecode(out,itos))\n",
      "File \u001b[1;32mc:\\Users\\yy\\Desktop\\dl_project\\project_code\\util.py:25\u001b[0m, in \u001b[0;36mdecode\u001b[1;34m(l, itos)\u001b[0m\n\u001b[0;32m     23\u001b[0m \u001b[39m\u001b[39m\u001b[39m\"\"\"take a list of integers, output a string\"\"\"\u001b[39;00m\n\u001b[0;32m     24\u001b[0m l \u001b[39m=\u001b[39m l\u001b[39m.\u001b[39mtolist()\n\u001b[1;32m---> 25\u001b[0m \u001b[39mreturn\u001b[39;00m \u001b[39m'\u001b[39m\u001b[39m'\u001b[39m\u001b[39m.\u001b[39mjoin([itos[i] \u001b[39mfor\u001b[39;49;00m i \u001b[39min\u001b[39;49;00m l])\n",
      "File \u001b[1;32mc:\\Users\\yy\\Desktop\\dl_project\\project_code\\util.py:25\u001b[0m, in \u001b[0;36m<listcomp>\u001b[1;34m(.0)\u001b[0m\n\u001b[0;32m     23\u001b[0m \u001b[39m\u001b[39m\u001b[39m\"\"\"take a list of integers, output a string\"\"\"\u001b[39;00m\n\u001b[0;32m     24\u001b[0m l \u001b[39m=\u001b[39m l\u001b[39m.\u001b[39mtolist()\n\u001b[1;32m---> 25\u001b[0m \u001b[39mreturn\u001b[39;00m \u001b[39m'\u001b[39m\u001b[39m'\u001b[39m\u001b[39m.\u001b[39mjoin([itos[i] \u001b[39mfor\u001b[39;00m i \u001b[39min\u001b[39;00m l])\n",
      "\u001b[1;31mTypeError\u001b[0m: unhashable type: 'list'"
     ]
    }
   ],
   "source": [
    "m.eval()\n",
    "with torch.no_grad():\n",
    "    out = m.generate(5,input_idx,'hi')\n",
    "    print(util.decode(out,itos))"
   ]
  },
  {
   "cell_type": "code",
   "execution_count": 13,
   "metadata": {},
   "outputs": [
    {
     "ename": "RuntimeError",
     "evalue": "Tensors must have same number of dimensions: got 2 and 1",
     "output_type": "error",
     "traceback": [
      "\u001b[1;31m---------------------------------------------------------------------------\u001b[0m",
      "\u001b[1;31mRuntimeError\u001b[0m                              Traceback (most recent call last)",
      "\u001b[1;32mc:\\Users\\yy\\Desktop\\dl_project\\project_code\\main.ipynb Cell 13\u001b[0m line \u001b[0;36m3\n\u001b[0;32m      <a href='vscode-notebook-cell:/c%3A/Users/yy/Desktop/dl_project/project_code/main.ipynb#X15sZmlsZQ%3D%3D?line=0'>1</a>\u001b[0m m\u001b[39m.\u001b[39meval()\n\u001b[0;32m      <a href='vscode-notebook-cell:/c%3A/Users/yy/Desktop/dl_project/project_code/main.ipynb#X15sZmlsZQ%3D%3D?line=1'>2</a>\u001b[0m \u001b[39mwith\u001b[39;00m torch\u001b[39m.\u001b[39mno_grad():\n\u001b[1;32m----> <a href='vscode-notebook-cell:/c%3A/Users/yy/Desktop/dl_project/project_code/main.ipynb#X15sZmlsZQ%3D%3D?line=2'>3</a>\u001b[0m     out \u001b[39m=\u001b[39m m\u001b[39m.\u001b[39;49mgenerate(\u001b[39m100\u001b[39;49m,input_idx,\u001b[39m'\u001b[39;49m\u001b[39mhigh_prob\u001b[39;49m\u001b[39m'\u001b[39;49m)\n\u001b[0;32m      <a href='vscode-notebook-cell:/c%3A/Users/yy/Desktop/dl_project/project_code/main.ipynb#X15sZmlsZQ%3D%3D?line=3'>4</a>\u001b[0m     \u001b[39mprint\u001b[39m(util\u001b[39m.\u001b[39mdecode(out,itos))\n",
      "File \u001b[1;32mc:\\Users\\yy\\AppData\\Local\\Programs\\Python\\Python311\\Lib\\site-packages\\torch\\utils\\_contextlib.py:115\u001b[0m, in \u001b[0;36mcontext_decorator.<locals>.decorate_context\u001b[1;34m(*args, **kwargs)\u001b[0m\n\u001b[0;32m    112\u001b[0m \u001b[39m@functools\u001b[39m\u001b[39m.\u001b[39mwraps(func)\n\u001b[0;32m    113\u001b[0m \u001b[39mdef\u001b[39;00m \u001b[39mdecorate_context\u001b[39m(\u001b[39m*\u001b[39margs, \u001b[39m*\u001b[39m\u001b[39m*\u001b[39mkwargs):\n\u001b[0;32m    114\u001b[0m     \u001b[39mwith\u001b[39;00m ctx_factory():\n\u001b[1;32m--> 115\u001b[0m         \u001b[39mreturn\u001b[39;00m func(\u001b[39m*\u001b[39;49margs, \u001b[39m*\u001b[39;49m\u001b[39m*\u001b[39;49mkwargs)\n",
      "File \u001b[1;32mc:\\Users\\yy\\Desktop\\dl_project\\project_code\\model.py:163\u001b[0m, in \u001b[0;36mModel.generate\u001b[1;34m(self, output_length, seed_idx, criteria)\u001b[0m\n\u001b[0;32m    161\u001b[0m \u001b[39mif\u001b[39;00m criteria \u001b[39m==\u001b[39m \u001b[39m'\u001b[39m\u001b[39mhigh_prob\u001b[39m\u001b[39m'\u001b[39m: \n\u001b[0;32m    162\u001b[0m     next_idx \u001b[39m=\u001b[39m prob\u001b[39m.\u001b[39margmax()\n\u001b[1;32m--> 163\u001b[0m     out  \u001b[39m=\u001b[39m torch\u001b[39m.\u001b[39;49mcat([out , next_idx\u001b[39m.\u001b[39;49munsqueeze(\u001b[39m0\u001b[39;49m)], dim\u001b[39m=\u001b[39;49m\u001b[39m-\u001b[39;49m\u001b[39m1\u001b[39;49m)\n\u001b[0;32m    164\u001b[0m \u001b[39melse\u001b[39;00m: \n\u001b[0;32m    165\u001b[0m     \u001b[39m# given a probability, get 1 sample\u001b[39;00m\n\u001b[0;32m    166\u001b[0m     next_idx \u001b[39m=\u001b[39m torch\u001b[39m.\u001b[39mmultinomial(prob, \u001b[39m1\u001b[39m)\n",
      "\u001b[1;31mRuntimeError\u001b[0m: Tensors must have same number of dimensions: got 2 and 1"
     ]
    }
   ],
   "source": [
    "m.eval()\n",
    "with torch.no_grad():\n",
    "    out = m.generate(100,input_idx,'high_prob')\n",
    "    print(util.decode(out,itos))\n"
   ]
  },
  {
   "cell_type": "markdown",
   "metadata": {},
   "source": [
    "# load model"
   ]
  },
  {
   "cell_type": "code",
   "execution_count": 4,
   "metadata": {},
   "outputs": [
    {
     "name": "stdout",
     "output_type": "stream",
     "text": [
      "O god! O god! ahthsenontidC BtaIedlti Tn C\n",
      "tef \n",
      "  nl uese \n",
      "bko ad w',wasst ts s ESmiebss, ft T Ro b,Y mnctH\n",
      "\n",
      "  ohe\n"
     ]
    }
   ],
   "source": [
    "m.load_state_dict(torch.load('models/100_step_decay_with_init_1.pth'))\n",
    "\n",
    "seed = \"O god! O god! \"\n",
    "\n",
    "\n",
    "input_idx = util.encode(seed,stoi)\n",
    "\n",
    "input_idx = torch.tensor(input_idx,dtype=torch.long)\n",
    "input_idx = torch.unsqueeze(input_idx, 0).to(device)\n",
    "\n",
    "\n",
    "m.eval()\n",
    "with torch.no_grad():\n",
    "    out = m.generate(100,input_idx,'hi')\n",
    "    print(util.decode(out,itos))\n",
    "\n",
    "\n"
   ]
  },
  {
   "cell_type": "code",
   "execution_count": 7,
   "metadata": {},
   "outputs": [],
   "source": [
    "m.eval()\n",
    "with torch.no_grad():\n",
    "    out = m.generate(100,input_idx,'high_prob')\n",
    "    print(util.decode(out,itos))"
   ]
  }
 ],
 "metadata": {
  "kernelspec": {
   "display_name": "Python 3",
   "language": "python",
   "name": "python3"
  },
  "language_info": {
   "codemirror_mode": {
    "name": "ipython",
    "version": 3
   },
   "file_extension": ".py",
   "mimetype": "text/x-python",
   "name": "python",
   "nbconvert_exporter": "python",
   "pygments_lexer": "ipython3",
   "version": "3.11.1"
  }
 },
 "nbformat": 4,
 "nbformat_minor": 2
}
