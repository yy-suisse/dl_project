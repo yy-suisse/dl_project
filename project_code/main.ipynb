{
 "cells": [
  {
   "cell_type": "code",
   "execution_count": 1,
   "metadata": {},
   "outputs": [],
   "source": [
    "import torch\n",
    "import util\n",
    "import custum_dataset\n",
    "from torch.utils.data import DataLoader\n",
    "from model import Model,save_model\n",
    "import torch.optim.lr_scheduler as lr_scheduler\n"
   ]
  },
  {
   "cell_type": "markdown",
   "metadata": {},
   "source": [
    "# 1. setting up"
   ]
  },
  {
   "cell_type": "code",
   "execution_count": 2,
   "metadata": {},
   "outputs": [],
   "source": [
    "device = torch.device(\"cuda:0\" if torch.cuda.is_available() else \"cpu\")\n",
    "path = f'C:/Users/yy/Desktop/dl_project/data/data.txt'  \n",
    "\n",
    "save_model_bool = False\n",
    "load_model_path = f\"models/300epoch_model.pth\"\n",
    "\n",
    "\n",
    "\n",
    "c = util.config()\n",
    "\n",
    "data_train,stoi,itos = util.load_data_with_split(path,c.split,type='train')\n",
    "data_test,_,_ = util.load_data_with_split(path,c.split,type='test')\n",
    "\n",
    "\n",
    "dataset_train = custum_dataset.CustomDataset(c.sequence_l,device,stoi,itos,data_train,repeat = False)\n",
    "data_loader_train = DataLoader(dataset_train, c.batch_size, shuffle=False)\n",
    "\n",
    "dataset_test = custum_dataset.CustomDataset(c.sequence_l,device,stoi,itos,data_test,repeat = False)\n",
    "data_loader_test = DataLoader(dataset_test, c.batch_size, shuffle=False)\n",
    "\n",
    "m = Model(stoi=dataset_train.stoi).to(device)\n",
    "\n",
    "\n",
    "optimizer = torch.optim.Adam(m.parameters(), lr=c.learning_rate)\n",
    "scheduler = lr_scheduler.ReduceLROnPlateau(optimizer,mode='min', factor=0.1, patience=5)\n",
    "\n"
   ]
  },
  {
   "cell_type": "markdown",
   "metadata": {},
   "source": [
    "# 2. Training loop\n",
    "lr decay: https://pytorch.org/docs/stable/optim.html"
   ]
  },
  {
   "cell_type": "code",
   "execution_count": 3,
   "metadata": {},
   "outputs": [],
   "source": [
    "if save_model_bool:\n",
    "    train_loss = []\n",
    "    test_loss = []\n",
    "    perplexity_train = []\n",
    "    perplexity_test = []\n",
    "\n",
    "    num_epochs = 300\n",
    "    MODEL_NAME = str(num_epochs)+\"epoch_model.pth\"\n",
    "\n",
    "\n",
    "    for epoch in range(num_epochs):\n",
    "\n",
    "        m.train()\n",
    "\n",
    "        inputs, targets = next(iter(data_loader_train))\n",
    "\n",
    "        optimizer.zero_grad()\n",
    "        \n",
    "        logit, loss, perplexity = m(inputs, use='train', y=targets)\n",
    "\n",
    "        loss.backward()\n",
    "        optimizer.step()\n",
    "            \n",
    "\n",
    "        # eval \n",
    "        m.eval()\n",
    "\n",
    "        with torch.inference_mode():\n",
    "            inputs_t, targets_t = next(iter(data_loader_test))\n",
    "\n",
    "            # Forward pass\n",
    "            logit, valid_loss, valid_perplexity = m(inputs, use='train', y=targets)\n",
    "\n",
    "        if epoch%50 == 0:\n",
    "            print(f\"Epoch {epoch + 1}/{num_epochs}, Loss: {loss:.4f}, Perplexity: {perplexity:.4f}\")\n",
    "            print(f\"Validation Loss: {valid_loss:.4f}, Validation Perplexity: {valid_perplexity:.4f}\")\n",
    "\n",
    "\n",
    "        train_loss.append(loss.cpu().detach().numpy())\n",
    "        test_loss.append(valid_loss.cpu().detach().numpy())\n",
    "        perplexity_train.append(perplexity.cpu().detach().numpy())\n",
    "        perplexity_test.append(valid_perplexity.cpu().detach().numpy())\n",
    "\n",
    "        scheduler.step(valid_loss)\n",
    "\n",
    "    save_model(m, MODEL_NAME)\n",
    "\n",
    "else: \n",
    "    m.load_state_dict(torch.load(load_model_path))\n",
    "    m.to(device)\n",
    "\n"
   ]
  },
  {
   "cell_type": "markdown",
   "metadata": {},
   "source": [
    "# 3. Plotting loss and perplexity"
   ]
  },
  {
   "cell_type": "code",
   "execution_count": 10,
   "metadata": {},
   "outputs": [],
   "source": [
    "import matplotlib.pyplot as plt\n",
    "import numpy as np\n",
    "if save_model_bool:\n",
    "    epoch_list = np.arange(0,len(train_loss))\n",
    "    plt.plot(epoch_list,perplexity_train)\n",
    "    plt.plot(epoch_list,perplexity_test)"
   ]
  },
  {
   "cell_type": "code",
   "execution_count": 11,
   "metadata": {},
   "outputs": [],
   "source": [
    "if save_model_bool:\n",
    "    epoch_list = np.arange(0,len(train_loss))\n",
    "    plt.plot(epoch_list,train_loss)\n",
    "    plt.plot(epoch_list,test_loss)\n",
    "    min(train_loss)\n"
   ]
  },
  {
   "cell_type": "markdown",
   "metadata": {},
   "source": [
    "# 4. Generation:"
   ]
  },
  {
   "cell_type": "code",
   "execution_count": 4,
   "metadata": {},
   "outputs": [],
   "source": [
    "nb_char = 3000\n",
    "\n",
    "seed = \"I saw a cat jumping onto the table, \"\n",
    "input_idx = util.encode(seed,stoi)\n",
    "\n",
    "input_idx = torch.tensor(input_idx,dtype=torch.long)\n",
    "input_idx = torch.unsqueeze(input_idx, 0).to(device)\n"
   ]
  },
  {
   "cell_type": "code",
   "execution_count": null,
   "metadata": {},
   "outputs": [],
   "source": [
    "m.eval()\n",
    "with torch.no_grad():\n",
    "    out = m.generate(nb_char,input_idx,'sample')\n",
    "    out = util.decode(out,itos)\n",
    "    \n",
    "\n",
    "util.save_generated_text('output'+str(nb_char)+'_sample.txt',out)"
   ]
  },
  {
   "cell_type": "code",
   "execution_count": null,
   "metadata": {},
   "outputs": [],
   "source": [
    "m.eval()\n",
    "with torch.no_grad():\n",
    "    out = m.generate(nb_char,input_idx,'high_prob')\n",
    "    out = util.decode(out,itos)\n",
    "util.save_generated_text('output'+str(nb_char)+'_high_prob',out)\n",
    "\n",
    "\n"
   ]
  }
 ],
 "metadata": {
  "kernelspec": {
   "display_name": "Python 3",
   "language": "python",
   "name": "python3"
  },
  "language_info": {
   "codemirror_mode": {
    "name": "ipython",
    "version": 3
   },
   "file_extension": ".py",
   "mimetype": "text/x-python",
   "name": "python",
   "nbconvert_exporter": "python",
   "pygments_lexer": "ipython3",
   "version": "3.11.1"
  }
 },
 "nbformat": 4,
 "nbformat_minor": 2
}
