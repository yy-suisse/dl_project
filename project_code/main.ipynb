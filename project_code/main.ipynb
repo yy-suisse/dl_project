{
 "cells": [
  {
   "cell_type": "code",
   "execution_count": 6,
   "metadata": {},
   "outputs": [],
   "source": [
    "import torch\n",
    "import util\n",
    "import custum_dataset\n",
    "from torch.utils.data import DataLoader\n",
    "from model import Model\n",
    "import torch.optim as optim\n",
    "import torch.optim.lr_scheduler as lr_scheduler"
   ]
  },
  {
   "cell_type": "code",
   "execution_count": 7,
   "metadata": {},
   "outputs": [],
   "source": [
    "device = torch.device(\"cuda:0\" if torch.cuda.is_available() else \"cpu\")\n",
    "path = f'C:/Users/yy/Desktop/dl_project/data/data.txt'  \n",
    "split = 0.8\n",
    "data_train,stoi,itos = util.load_data_with_split(path,split,type='train')\n",
    "data_test,_,_ = util.load_data_with_split(path,split,type='test')\n",
    "\n",
    "c = util.config()\n",
    "\n",
    "\n",
    "dataset_train = custum_dataset.CustomDataset(c.sequence_l,device,stoi,itos,data_train,repeat = False)\n",
    "data_loader_train = DataLoader(dataset_train, c.batch_size, shuffle=True)\n",
    "\n",
    "dataset_test = custum_dataset.CustomDataset(c.sequence_l,device,stoi,itos,data_test,repeat = False)\n",
    "data_loader_test = DataLoader(dataset_test, c.batch_size, shuffle=True)\n",
    "\n",
    "model = Model(stoi=dataset_train.stoi)\n",
    "m = model.to(device)\n",
    "optimizer = torch.optim.AdamW(model.parameters(), lr=c.learning_rate)\n",
    "scheduler = lr_scheduler.ExponentialLR(optimizer, gamma=0.9)\n"
   ]
  },
  {
   "cell_type": "markdown",
   "metadata": {},
   "source": [
    "# Training loop\n",
    "lr decay: https://pytorch.org/docs/stable/optim.html"
   ]
  },
  {
   "cell_type": "code",
   "execution_count": 8,
   "metadata": {},
   "outputs": [
    {
     "name": "stdout",
     "output_type": "stream",
     "text": [
      "0\n",
      "Epoch 0: SGD lr 0.0001 -> 0.0001\n",
      "1\n",
      "Epoch 1: SGD lr 0.0001 -> 0.0001\n",
      "2\n",
      "Epoch 2: SGD lr 0.0001 -> 0.0001\n",
      "3\n",
      "Epoch 3: SGD lr 0.0001 -> 0.0001\n",
      "4\n",
      "Epoch 4: SGD lr 0.0001 -> 0.0001\n",
      "5\n",
      "Epoch 5: SGD lr 0.0001 -> 0.0001\n",
      "6\n",
      "Epoch 6: SGD lr 0.0001 -> 0.0000\n",
      "7\n",
      "Epoch 7: SGD lr 0.0000 -> 0.0000\n",
      "8\n",
      "Epoch 8: SGD lr 0.0000 -> 0.0000\n",
      "9\n",
      "Epoch 9: SGD lr 0.0000 -> 0.0000\n",
      "10\n",
      "Epoch 10: SGD lr 0.0000 -> 0.0000\n",
      "11\n",
      "Epoch 11: SGD lr 0.0000 -> 0.0000\n",
      "12\n"
     ]
    },
    {
     "ename": "KeyboardInterrupt",
     "evalue": "",
     "output_type": "error",
     "traceback": [
      "\u001b[1;31m---------------------------------------------------------------------------\u001b[0m",
      "\u001b[1;31mKeyboardInterrupt\u001b[0m                         Traceback (most recent call last)",
      "\u001b[1;32mc:\\Users\\yy\\Desktop\\dl_project\\project_code\\main.ipynb Cell 4\u001b[0m line \u001b[0;36m1\n\u001b[0;32m      <a href='vscode-notebook-cell:/c%3A/Users/yy/Desktop/dl_project/project_code/main.ipynb#W2sZmlsZQ%3D%3D?line=7'>8</a>\u001b[0m logit,loss \u001b[39m=\u001b[39m m(inputs,\u001b[39m'\u001b[39m\u001b[39mtrain\u001b[39m\u001b[39m'\u001b[39m, targets)\n\u001b[0;32m      <a href='vscode-notebook-cell:/c%3A/Users/yy/Desktop/dl_project/project_code/main.ipynb#W2sZmlsZQ%3D%3D?line=8'>9</a>\u001b[0m optimizer\u001b[39m.\u001b[39mzero_grad()\n\u001b[1;32m---> <a href='vscode-notebook-cell:/c%3A/Users/yy/Desktop/dl_project/project_code/main.ipynb#W2sZmlsZQ%3D%3D?line=9'>10</a>\u001b[0m loss\u001b[39m.\u001b[39;49mbackward()\n\u001b[0;32m     <a href='vscode-notebook-cell:/c%3A/Users/yy/Desktop/dl_project/project_code/main.ipynb#W2sZmlsZQ%3D%3D?line=10'>11</a>\u001b[0m optimizer\u001b[39m.\u001b[39mstep()\n\u001b[0;32m     <a href='vscode-notebook-cell:/c%3A/Users/yy/Desktop/dl_project/project_code/main.ipynb#W2sZmlsZQ%3D%3D?line=11'>12</a>\u001b[0m before_lr \u001b[39m=\u001b[39m optimizer\u001b[39m.\u001b[39mparam_groups[\u001b[39m0\u001b[39m][\u001b[39m\"\u001b[39m\u001b[39mlr\u001b[39m\u001b[39m\"\u001b[39m]\n",
      "File \u001b[1;32mc:\\Users\\yy\\AppData\\Local\\Programs\\Python\\Python311\\Lib\\site-packages\\torch\\_tensor.py:487\u001b[0m, in \u001b[0;36mTensor.backward\u001b[1;34m(self, gradient, retain_graph, create_graph, inputs)\u001b[0m\n\u001b[0;32m    477\u001b[0m \u001b[39mif\u001b[39;00m has_torch_function_unary(\u001b[39mself\u001b[39m):\n\u001b[0;32m    478\u001b[0m     \u001b[39mreturn\u001b[39;00m handle_torch_function(\n\u001b[0;32m    479\u001b[0m         Tensor\u001b[39m.\u001b[39mbackward,\n\u001b[0;32m    480\u001b[0m         (\u001b[39mself\u001b[39m,),\n\u001b[1;32m   (...)\u001b[0m\n\u001b[0;32m    485\u001b[0m         inputs\u001b[39m=\u001b[39minputs,\n\u001b[0;32m    486\u001b[0m     )\n\u001b[1;32m--> 487\u001b[0m torch\u001b[39m.\u001b[39;49mautograd\u001b[39m.\u001b[39;49mbackward(\n\u001b[0;32m    488\u001b[0m     \u001b[39mself\u001b[39;49m, gradient, retain_graph, create_graph, inputs\u001b[39m=\u001b[39;49minputs\n\u001b[0;32m    489\u001b[0m )\n",
      "File \u001b[1;32mc:\\Users\\yy\\AppData\\Local\\Programs\\Python\\Python311\\Lib\\site-packages\\torch\\autograd\\__init__.py:200\u001b[0m, in \u001b[0;36mbackward\u001b[1;34m(tensors, grad_tensors, retain_graph, create_graph, grad_variables, inputs)\u001b[0m\n\u001b[0;32m    195\u001b[0m     retain_graph \u001b[39m=\u001b[39m create_graph\n\u001b[0;32m    197\u001b[0m \u001b[39m# The reason we repeat same the comment below is that\u001b[39;00m\n\u001b[0;32m    198\u001b[0m \u001b[39m# some Python versions print out the first line of a multi-line function\u001b[39;00m\n\u001b[0;32m    199\u001b[0m \u001b[39m# calls in the traceback and some print out the last line\u001b[39;00m\n\u001b[1;32m--> 200\u001b[0m Variable\u001b[39m.\u001b[39;49m_execution_engine\u001b[39m.\u001b[39;49mrun_backward(  \u001b[39m# Calls into the C++ engine to run the backward pass\u001b[39;49;00m\n\u001b[0;32m    201\u001b[0m     tensors, grad_tensors_, retain_graph, create_graph, inputs,\n\u001b[0;32m    202\u001b[0m     allow_unreachable\u001b[39m=\u001b[39;49m\u001b[39mTrue\u001b[39;49;00m, accumulate_grad\u001b[39m=\u001b[39;49m\u001b[39mTrue\u001b[39;49;00m)\n",
      "\u001b[1;31mKeyboardInterrupt\u001b[0m: "
     ]
    }
   ],
   "source": [
    "train_loss = []\n",
    "test_loss = []\n",
    "\n",
    "for epoch in range(6000):\n",
    "    print(epoch)\n",
    "    model.train()\n",
    "    inputs, targets = next(iter(data_loader_train))\n",
    "    logit,loss = m(inputs,'train', targets)\n",
    "    optimizer.zero_grad()\n",
    "    loss.backward()\n",
    "    optimizer.step()\n",
    "    before_lr = optimizer.param_groups[0][\"lr\"]\n",
    "    scheduler.step()\n",
    "    after_lr = optimizer.param_groups[0][\"lr\"]\n",
    "    print(\"Epoch %d: SGD lr %.4f -> %.4f\" % (epoch, before_lr, after_lr))\n",
    "    \n",
    "    model.eval()\n",
    "    inputs_t, targets_t = next(iter(data_loader_test))\n",
    "\n",
    "    with torch.inference_mode():\n",
    "        _,loss_t = m(inputs_t,'train', targets_t)\n",
    "\n",
    "    train_loss.append(loss.detach().numpy())\n",
    "    test_loss.append(loss_t.detach().numpy())\n"
   ]
  },
  {
   "cell_type": "code",
   "execution_count": 9,
   "metadata": {},
   "outputs": [
    {
     "data": {
      "text/plain": [
       "[<matplotlib.lines.Line2D at 0x1d7cc1ea2d0>]"
      ]
     },
     "execution_count": 9,
     "metadata": {},
     "output_type": "execute_result"
    },
    {
     "data": {
      "image/png": "[encoded data removed]",
      "text/plain": [
       "<Figure size 640x480 with 1 Axes>"
      ]
     },
     "metadata": {},
     "output_type": "display_data"
    }
   ],
   "source": [
    "import matplotlib.pyplot as plt\n",
    "import numpy as np\n",
    "epoch_list = np.arange(0,len(train_loss))\n",
    "plt.plot(epoch_list,train_loss)\n",
    "plt.plot(epoch_list,test_loss)"
   ]
  },
  {
   "cell_type": "markdown",
   "metadata": {},
   "source": [
    "# save model"
   ]
  },
  {
   "cell_type": "code",
   "execution_count": 7,
   "metadata": {},
   "outputs": [
    {
     "name": "stdout",
     "output_type": "stream",
     "text": [
      "Saving model to: models\\51_step_no_decay.pth\n"
     ]
    }
   ],
   "source": [
    "# save model\n",
    "from pathlib import Path\n",
    "\n",
    "# 1. Create models directory \n",
    "MODEL_PATH = Path(\"models\")\n",
    "MODEL_PATH.mkdir(parents=True, exist_ok=True)\n",
    "\n",
    "# 2. Create model save path \n",
    "MODEL_NAME = \"51_step_no_decay.pth\"\n",
    "MODEL_SAVE_PATH = MODEL_PATH / MODEL_NAME\n",
    "\n",
    "# 3. Save the model state dict \n",
    "print(f\"Saving model to: {MODEL_SAVE_PATH}\")\n",
    "torch.save(obj=m.state_dict(), # only saving the state_dict() only saves the models learned parameters\n",
    "           f=MODEL_SAVE_PATH) "
   ]
  },
  {
   "cell_type": "code",
   "execution_count": null,
   "metadata": {},
   "outputs": [],
   "source": [
    "MODEL_SAVE_PATH"
   ]
  },
  {
   "cell_type": "markdown",
   "metadata": {},
   "source": [
    "# generation:"
   ]
  },
  {
   "cell_type": "code",
   "execution_count": 8,
   "metadata": {},
   "outputs": [],
   "source": [
    "seed = \"His cat jumped onto the table, said: We are accounted poor citizens, the patricians good. What authority surfeits on would relieve us: if they would yield us but the superfluity, while it were wholesome, we might guess they relieved us humanely;\"\n",
    "\n",
    "empty = \" \"*c.sequence_l\n",
    "seed_idx = util.encode(seed,stoi)\n",
    "if len(seed)<c.sequence_l: \n",
    "    input_idx = util.encode(empty,stoi)\n",
    "    input_idx[-len(seed):] = seed_idx\n",
    "else:\n",
    "    input_idx = seed_idx[:c.sequence_l]\n",
    "\n",
    "input_idx = torch.tensor(input_idx,dtype=torch.long).to(device)"
   ]
  },
  {
   "cell_type": "code",
   "execution_count": 10,
   "metadata": {},
   "outputs": [
    {
     "name": "stdout",
     "output_type": "stream",
     "text": [
      "His cat jumped onto the table, said: We are accounted poor citizens, the patricians good. What authority surfeits on would relienthanap.\n",
      "FherBpIAnd \n"
     ]
    }
   ],
   "source": [
    "m.eval()\n",
    "with torch.no_grad():\n",
    "    out = m.generate(20,input_idx,'multi')\n",
    "    print(util.decode(out,itos))"
   ]
  },
  {
   "cell_type": "code",
   "execution_count": null,
   "metadata": {},
   "outputs": [],
   "source": [
    "out\n",
    "c.sequence_l"
   ]
  }
 ],
 "metadata": {
  "kernelspec": {
   "display_name": "Python 3",
   "language": "python",
   "name": "python3"
  },
  "language_info": {
   "name": "python",
   "version": "3.11.1"
  }
 },
 "nbformat": 4,
 "nbformat_minor": 2
}
