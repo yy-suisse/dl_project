{
 "cells": [
  {
   "cell_type": "code",
   "execution_count": 1,
   "metadata": {},
   "outputs": [],
   "source": [
    "import torch\n",
    "import util\n",
    "from model import Model\n"
   ]
  },
  {
   "cell_type": "code",
   "execution_count": 2,
   "metadata": {},
   "outputs": [],
   "source": [
    "def load_and_generate(m,nb_char,input_idx,criteria,itos,model_name):\n",
    "    m.eval()\n",
    "    with torch.no_grad():\n",
    "        out = m.generate(nb_char,input_idx,criteria)\n",
    "        out = util.decode(out,itos)\n",
    "    util.save_generated_text('output_'+model_name+'_'+ criteria+'.txt',out)\n"
   ]
  },
  {
   "cell_type": "markdown",
   "metadata": {},
   "source": [
    "# List all pretrained models"
   ]
  },
  {
   "cell_type": "code",
   "execution_count": 3,
   "metadata": {},
   "outputs": [
    {
     "name": "stdout",
     "output_type": "stream",
     "text": [
      "['4000epoch_model_seed42_no_lrd.pth', '4000epoch_model_seed42_with_lrd.pth', '4000epoch_model_wo_decay.pth', '4000epoch_model_w_decay.pth']\n"
     ]
    }
   ],
   "source": [
    "import os\n",
    "dir_path = r'models/'\n",
    "\n",
    "# list to store files\n",
    "res = []\n",
    "\n",
    "# Iterate directory\n",
    "for path in os.listdir(dir_path):\n",
    "    # check if current path is a file\n",
    "    if os.path.isfile(os.path.join(dir_path, path)):\n",
    "        res.append(path)\n",
    "print(res)"
   ]
  },
  {
   "cell_type": "markdown",
   "metadata": {},
   "source": [
    "# Create new model"
   ]
  },
  {
   "cell_type": "code",
   "execution_count": 4,
   "metadata": {},
   "outputs": [],
   "source": [
    "device = torch.device(\"cuda:0\" if torch.cuda.is_available() else \"cpu\")\n",
    "path = f'C:/Users/yy/Desktop/dl_project/data/data.txt'  \n",
    "\n",
    "c = util.config()\n",
    "\n",
    "data_train,stoi,itos = util.load_data_with_split(path,c.split,type='train')"
   ]
  },
  {
   "cell_type": "markdown",
   "metadata": {},
   "source": [
    "# Define a seed"
   ]
  },
  {
   "cell_type": "code",
   "execution_count": 5,
   "metadata": {},
   "outputs": [],
   "source": [
    "nb_char = 1000\n",
    "\n",
    "seed = \"He put his meal in front of his cat, said: \"\n",
    "input_idx = util.encode(seed,stoi)\n",
    "\n",
    "input_idx = torch.tensor(input_idx,dtype=torch.long)\n",
    "input_idx = torch.unsqueeze(input_idx, 0).to(device)\n"
   ]
  },
  {
   "cell_type": "markdown",
   "metadata": {},
   "source": [
    "# load model"
   ]
  },
  {
   "cell_type": "code",
   "execution_count": 6,
   "metadata": {},
   "outputs": [
    {
     "name": "stdout",
     "output_type": "stream",
     "text": [
      "4000epoch_model_seed42_no_lrd.pth\n",
      "4000epoch_model_seed42_with_lrd.pth\n",
      "4000epoch_model_wo_decay.pth\n",
      "4000epoch_model_w_decay.pth\n"
     ]
    }
   ],
   "source": [
    "for i in range(len(res)):\n",
    "    print(res[i])\n",
    "    m = Model(stoi).to(device)\n",
    "    load_model_path = f\"models/\" + res[i]\n",
    "    m.load_state_dict(torch.load(load_model_path))\n",
    "    m.to(device)\n",
    "    load_and_generate(m,nb_char,input_idx,'high_prob',itos,res[i].split('.')[0])\n",
    "    load_and_generate(m,nb_char,input_idx,'sample',itos,res[i].split('.')[0])\n"
   ]
  }
 ],
 "metadata": {
  "kernelspec": {
   "display_name": "Python 3",
   "language": "python",
   "name": "python3"
  },
  "language_info": {
   "codemirror_mode": {
    "name": "ipython",
    "version": 3
   },
   "file_extension": ".py",
   "mimetype": "text/x-python",
   "name": "python",
   "nbconvert_exporter": "python",
   "pygments_lexer": "ipython3",
   "version": "3.11.1"
  }
 },
 "nbformat": 4,
 "nbformat_minor": 2
}
