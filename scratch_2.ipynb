{
 "cells": [
  {
   "cell_type": "code",
   "execution_count": null,
   "metadata": {},
   "outputs": [],
   "source": [
    "import math\n",
    "import torch\n",
    "from torch import nn\n",
    "from torch.utils.data import Dataset,DataLoader\n",
    "import re"
   ]
  },
  {
   "cell_type": "code",
   "execution_count": 35,
   "metadata": {},
   "outputs": [],
   "source": [
    "batch_size = 50 # b\n",
    "sequence_l = 128 # n\n",
    "d_model = 768 # d_model， embedding dim\n",
    "num_layer = 12 # number of block stacked\n",
    "number_head = 8 # multihead attention\n",
    "d_ff = 2048 # feedforward dimension\n",
    "block_size = 128\n",
    "device = 'cuda' if torch.cuda.is_available() else 'cpu'\n",
    "\n"
   ]
  },
  {
   "cell_type": "code",
   "execution_count": 36,
   "metadata": {},
   "outputs": [
    {
     "name": "stdout",
     "output_type": "stream",
     "text": [
      "first citizen: before we proceed any further hear me speak all: speak speak first citizen: you are a\n"
     ]
    }
   ],
   "source": [
    "def read_data(): \n",
    "    text = open('data.txt', 'r').read()\n",
    "    return re.sub('[^A-Za-z:]+',' ',text).strip().lower()\n",
    "\n",
    "data = read_data()\n",
    "print(data[:100])"
   ]
  },
  {
   "cell_type": "code",
   "execution_count": 37,
   "metadata": {},
   "outputs": [],
   "source": [
    "chars = sorted(list(set(data)))\n",
    "vocab_size = len(chars)\n",
    "stoi = { ch:i for i,ch in enumerate(chars) }\n",
    "itos = { i:ch for i,ch in enumerate(chars) }\n",
    "encode = lambda s: [stoi[c] for c in s] # encoder: take a string, output a list of integers\n",
    "decode = lambda l: ''.join([itos[i] for i in l]) # decoder: take a list of integers, output a string"
   ]
  },
  {
   "cell_type": "code",
   "execution_count": 38,
   "metadata": {},
   "outputs": [
    {
     "name": "stdout",
     "output_type": "stream",
     "text": [
      "tensor([ 7, 10, 19,  ..., 10, 15,  8])\n"
     ]
    }
   ],
   "source": [
    "data = torch.tensor(encode(data), dtype=torch.long)\n",
    "print(data)\n",
    "n = int(0.9*len(data)) # first 90% will be train, rest val\n",
    "train_data = data[:n]\n",
    "val_data = data[n:]"
   ]
  },
  {
   "cell_type": "code",
   "execution_count": 39,
   "metadata": {},
   "outputs": [],
   "source": [
    "# data loading\n",
    "def get_batch(split):\n",
    "    # generate a small batch of data of inputs x and targets y\n",
    "    data = train_data if split == 'train' else val_data\n",
    "    ix = torch.randint(len(data) - block_size, (batch_size,))\n",
    "    x = torch.stack([data[i:i+block_size] for i in ix])\n",
    "    y = torch.stack([data[i+1:i+block_size+1] for i in ix])\n",
    "    x, y = x.to(device), y.to(device)\n",
    "    return x, y\n"
   ]
  },
  {
   "cell_type": "code",
   "execution_count": 28,
   "metadata": {},
   "outputs": [
    {
     "name": "stdout",
     "output_type": "stream",
     "text": [
      "tensor([21,  0, 21,  9, 16, 22,  8,  9, 21,  0, 21,  9,  6, 14,  0, 20, 22, 19,\n",
      "         6,  0, 16,  7,  0, 26, 16, 22,  0,  4, 16, 19, 10, 16, 13,  2, 15, 22,\n",
      "        20,  1,  0, 21,  9, 10, 20,  0, 13,  2, 20, 21,  0, 16, 13,  5,  0, 14,\n",
      "         2, 15,  0, 24,  9, 16, 14,  0, 24, 10, 21,  9,  0,  2,  0,  4, 19,  2,\n",
      "         4, 12,  0,  5,  0,  9,  6,  2, 19, 21,  0, 10,  0,  9,  2, 23,  6,  0,\n",
      "        20,  6, 15, 21,  0, 21, 16,  0, 19, 16, 14,  6,  0, 13, 16, 23,  6,  5,\n",
      "         0, 14,  6,  0,  2,  3, 16, 23,  6,  0, 21,  9,  6,  0, 14,  6,  2, 20,\n",
      "        22, 19])\n",
      "tensor([ 0, 21,  9, 16, 22,  8,  9, 21,  0, 21,  9,  6, 14,  0, 20, 22, 19,  6,\n",
      "         0, 16,  7,  0, 26, 16, 22,  0,  4, 16, 19, 10, 16, 13,  2, 15, 22, 20,\n",
      "         1,  0, 21,  9, 10, 20,  0, 13,  2, 20, 21,  0, 16, 13,  5,  0, 14,  2,\n",
      "        15,  0, 24,  9, 16, 14,  0, 24, 10, 21,  9,  0,  2,  0,  4, 19,  2,  4,\n",
      "        12,  0,  5,  0,  9,  6,  2, 19, 21,  0, 10,  0,  9,  2, 23,  6,  0, 20,\n",
      "         6, 15, 21,  0, 21, 16,  0, 19, 16, 14,  6,  0, 13, 16, 23,  6,  5,  0,\n",
      "        14,  6,  0,  2,  3, 16, 23,  6,  0, 21,  9,  6,  0, 14,  6,  2, 20, 22,\n",
      "        19,  6])\n"
     ]
    }
   ],
   "source": [
    "x, y = get_batch('train')\n"
   ]
  },
  {
   "cell_type": "code",
   "execution_count": 1,
   "metadata": {},
   "outputs": [
    {
     "name": "stdout",
     "output_type": "stream",
     "text": [
      "10.788929 M parameters\n",
      "step 0: train loss 4.2227, val loss 4.2305\n",
      "step 500: train loss 1.7467, val loss 1.9031\n"
     ]
    },
    {
     "ename": "RuntimeError",
     "evalue": "[enforce fail at ..\\c10\\core\\impl\\alloc_cpu.cpp:72] data. DefaultCPUAllocator: not enough memory: you tried to allocate 100663296 bytes.",
     "output_type": "error",
     "traceback": [
      "\u001b[1;31m---------------------------------------------------------------------------\u001b[0m",
      "\u001b[1;31mRuntimeError\u001b[0m                              Traceback (most recent call last)",
      "\u001b[1;32mc:\\Users\\yy\\Desktop\\dl_project\\scratch_2.ipynb Cell 8\u001b[0m line \u001b[0;36m2\n\u001b[0;32m    <a href='vscode-notebook-cell:/c%3A/Users/yy/Desktop/dl_project/scratch_2.ipynb#X11sZmlsZQ%3D%3D?line=216'>217</a>\u001b[0m     logits, loss \u001b[39m=\u001b[39m model(xb, yb)\n\u001b[0;32m    <a href='vscode-notebook-cell:/c%3A/Users/yy/Desktop/dl_project/scratch_2.ipynb#X11sZmlsZQ%3D%3D?line=217'>218</a>\u001b[0m     optimizer\u001b[39m.\u001b[39mzero_grad(set_to_none\u001b[39m=\u001b[39m\u001b[39mTrue\u001b[39;00m)\n\u001b[1;32m--> <a href='vscode-notebook-cell:/c%3A/Users/yy/Desktop/dl_project/scratch_2.ipynb#X11sZmlsZQ%3D%3D?line=218'>219</a>\u001b[0m     loss\u001b[39m.\u001b[39;49mbackward()\n\u001b[0;32m    <a href='vscode-notebook-cell:/c%3A/Users/yy/Desktop/dl_project/scratch_2.ipynb#X11sZmlsZQ%3D%3D?line=219'>220</a>\u001b[0m     optimizer\u001b[39m.\u001b[39mstep()\n\u001b[0;32m    <a href='vscode-notebook-cell:/c%3A/Users/yy/Desktop/dl_project/scratch_2.ipynb#X11sZmlsZQ%3D%3D?line=221'>222</a>\u001b[0m \u001b[39m# generate from the model\u001b[39;00m\n",
      "File \u001b[1;32mc:\\Users\\yy\\AppData\\Local\\Programs\\Python\\Python311\\Lib\\site-packages\\torch\\_tensor.py:487\u001b[0m, in \u001b[0;36mTensor.backward\u001b[1;34m(self, gradient, retain_graph, create_graph, inputs)\u001b[0m\n\u001b[0;32m    477\u001b[0m \u001b[39mif\u001b[39;00m has_torch_function_unary(\u001b[39mself\u001b[39m):\n\u001b[0;32m    478\u001b[0m     \u001b[39mreturn\u001b[39;00m handle_torch_function(\n\u001b[0;32m    479\u001b[0m         Tensor\u001b[39m.\u001b[39mbackward,\n\u001b[0;32m    480\u001b[0m         (\u001b[39mself\u001b[39m,),\n\u001b[1;32m   (...)\u001b[0m\n\u001b[0;32m    485\u001b[0m         inputs\u001b[39m=\u001b[39minputs,\n\u001b[0;32m    486\u001b[0m     )\n\u001b[1;32m--> 487\u001b[0m torch\u001b[39m.\u001b[39;49mautograd\u001b[39m.\u001b[39;49mbackward(\n\u001b[0;32m    488\u001b[0m     \u001b[39mself\u001b[39;49m, gradient, retain_graph, create_graph, inputs\u001b[39m=\u001b[39;49minputs\n\u001b[0;32m    489\u001b[0m )\n",
      "File \u001b[1;32mc:\\Users\\yy\\AppData\\Local\\Programs\\Python\\Python311\\Lib\\site-packages\\torch\\autograd\\__init__.py:200\u001b[0m, in \u001b[0;36mbackward\u001b[1;34m(tensors, grad_tensors, retain_graph, create_graph, grad_variables, inputs)\u001b[0m\n\u001b[0;32m    195\u001b[0m     retain_graph \u001b[39m=\u001b[39m create_graph\n\u001b[0;32m    197\u001b[0m \u001b[39m# The reason we repeat same the comment below is that\u001b[39;00m\n\u001b[0;32m    198\u001b[0m \u001b[39m# some Python versions print out the first line of a multi-line function\u001b[39;00m\n\u001b[0;32m    199\u001b[0m \u001b[39m# calls in the traceback and some print out the last line\u001b[39;00m\n\u001b[1;32m--> 200\u001b[0m Variable\u001b[39m.\u001b[39;49m_execution_engine\u001b[39m.\u001b[39;49mrun_backward(  \u001b[39m# Calls into the C++ engine to run the backward pass\u001b[39;49;00m\n\u001b[0;32m    201\u001b[0m     tensors, grad_tensors_, retain_graph, create_graph, inputs,\n\u001b[0;32m    202\u001b[0m     allow_unreachable\u001b[39m=\u001b[39;49m\u001b[39mTrue\u001b[39;49;00m, accumulate_grad\u001b[39m=\u001b[39;49m\u001b[39mTrue\u001b[39;49;00m)\n",
      "\u001b[1;31mRuntimeError\u001b[0m: [enforce fail at ..\\c10\\core\\impl\\alloc_cpu.cpp:72] data. DefaultCPUAllocator: not enough memory: you tried to allocate 100663296 bytes."
     ]
    }
   ],
   "source": []
  }
 ],
 "metadata": {
  "kernelspec": {
   "display_name": "Python 3",
   "language": "python",
   "name": "python3"
  },
  "language_info": {
   "codemirror_mode": {
    "name": "ipython",
    "version": 3
   },
   "file_extension": ".py",
   "mimetype": "text/x-python",
   "name": "python",
   "nbconvert_exporter": "python",
   "pygments_lexer": "ipython3",
   "version": "3.11.1"
  }
 },
 "nbformat": 4,
 "nbformat_minor": 2
}
